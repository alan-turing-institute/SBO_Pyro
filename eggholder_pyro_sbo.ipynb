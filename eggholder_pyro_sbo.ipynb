{
 "cells": [
  {
   "cell_type": "markdown",
   "metadata": {},
   "source": [
    "# Structured Bayesian Optimisation with Pyro (2D Eggholder function)"
   ]
  },
  {
   "cell_type": "code",
   "execution_count": null,
   "metadata": {},
   "outputs": [],
   "source": [
    "import numpy as np\n",
    "import torch\n",
    "import pyro\n",
    "\n",
    "import matplotlib.pyplot as plt\n",
    "from mpl_toolkits import mplot3d"
   ]
  },
  {
   "cell_type": "code",
   "execution_count": null,
   "metadata": {},
   "outputs": [],
   "source": [
    "print(torch.__version__)\n",
    "print(pyro.__version__)"
   ]
  },
  {
   "cell_type": "code",
   "execution_count": null,
   "metadata": {},
   "outputs": [],
   "source": [
    "torch.random.manual_seed(555)"
   ]
  },
  {
   "cell_type": "markdown",
   "metadata": {},
   "source": [
    "# Objective function "
   ]
  },
  {
   "cell_type": "code",
   "execution_count": null,
   "metadata": {},
   "outputs": [],
   "source": [
    "def eggholder(x):\n",
    "    \n",
    "    x1 = x[...,0]\n",
    "    x2 = x[...,1]\n",
    "    \n",
    "    return -((x2 + 47) * torch.sin(torch.sqrt(torch.abs(x2 + x1/2 + 47))) - x1 * torch.sin(torch.sqrt(torch.abs(x1 - x2 + 47))))\n",
    "    "
   ]
  },
  {
   "cell_type": "markdown",
   "metadata": {},
   "source": [
    "# Visualisation"
   ]
  },
  {
   "cell_type": "code",
   "execution_count": null,
   "metadata": {},
   "outputs": [],
   "source": [
    "const_x1_min = -512\n",
    "const_x2_min = -512\n",
    "const_x1_max = 512\n",
    "const_x2_max = 512\n",
    "\n",
    "steps = 1000\n",
    "strides = 100\n",
    "\n",
    "X1 = torch.linspace(const_x1_min, const_x1_max, steps)\n",
    "X2 = torch.linspace(const_x2_min, const_x2_max, steps)\n",
    "\n",
    "X1_mesh, X2_mesh = torch.meshgrid(X1, X2)\n",
    "\n",
    "Z_mesh = eggholder(torch.stack((X1_mesh, X2_mesh), dim=2))\n",
    "\n",
    "\n",
    "fig = plt.figure()\n",
    "ax = plt.axes(projection='3d')\n",
    "ax.contour3D(X1_mesh, X2_mesh, Z_mesh, 50, cmap='binary')\n",
    "ax.set_xlabel('x1')\n",
    "ax.set_ylabel('x2')\n",
    "ax.set_zlabel('y');"
   ]
  },
  {
   "cell_type": "code",
   "execution_count": null,
   "metadata": {},
   "outputs": [],
   "source": [
    "plt.contour(X1_mesh, X2_mesh, Z_mesh, strides)"
   ]
  },
  {
   "cell_type": "markdown",
   "metadata": {},
   "source": [
    "# Initial (training) data"
   ]
  },
  {
   "cell_type": "code",
   "execution_count": null,
   "metadata": {},
   "outputs": [],
   "source": [
    "N_points = 10\n",
    "\n",
    "X = torch.rand(N_points, 2)*15 + torch.FloatTensor([-5, 0])\n",
    "\n",
    "y = eggholder(X)"
   ]
  },
  {
   "cell_type": "code",
   "execution_count": null,
   "metadata": {},
   "outputs": [],
   "source": []
  }
 ],
 "metadata": {
  "kernelspec": {
   "display_name": "Python 3",
   "language": "python",
   "name": "python3"
  },
  "language_info": {
   "codemirror_mode": {
    "name": "ipython",
    "version": 3
   },
   "file_extension": ".py",
   "mimetype": "text/x-python",
   "name": "python",
   "nbconvert_exporter": "python",
   "pygments_lexer": "ipython3",
   "version": "3.7.4"
  }
 },
 "nbformat": 4,
 "nbformat_minor": 2
}
