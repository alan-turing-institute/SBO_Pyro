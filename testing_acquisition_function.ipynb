{
 "cells": [
  {
   "cell_type": "code",
   "execution_count": 1,
   "metadata": {},
   "outputs": [],
   "source": [
    "import math\n",
    "import torch\n",
    "import numpy as np\n",
    "import matplotlib.pyplot as plt\n",
    "\n",
    "import pyro\n",
    "import pyro.contrib.gp as gp\n",
    "\n",
    "import torch.optim as optim\n",
    "\n",
    "import torch.autograd as autograd"
   ]
  },
  {
   "cell_type": "markdown",
   "metadata": {},
   "source": [
    "# Objective function"
   ]
  },
  {
   "cell_type": "code",
   "execution_count": 2,
   "metadata": {},
   "outputs": [
    {
     "data": {
      "text/plain": [
       "[<matplotlib.lines.Line2D at 0x12d366978>]"
      ]
     },
     "execution_count": 2,
     "metadata": {},
     "output_type": "execute_result"
    },
    {
     "data": {
      "image/png": "[encoded data removed]",
      "text/plain": [
       "<Figure size 432x288 with 1 Axes>"
      ]
     },
     "metadata": {
      "needs_background": "light"
     },
     "output_type": "display_data"
    }
   ],
   "source": [
    "a = -5\n",
    "b = 0\n",
    "c = 0.5\n",
    "\n",
    "def test_function(X):\n",
    "    return a * torch.exp(-1.0 * torch.pow((X - b), 2) / (2*c*c))\n",
    "\n",
    "x_ = torch.linspace(-5, 5, 200)\n",
    "\n",
    "plt.plot(x_, test_function(x_))"
   ]
  },
  {
   "cell_type": "markdown",
   "metadata": {},
   "source": [
    "# Training data"
   ]
  },
  {
   "cell_type": "code",
   "execution_count": 3,
   "metadata": {},
   "outputs": [],
   "source": [
    "train_cnt = 3\n",
    "X_train = torch.tensor([x for x in np.random.uniform(low=-5, high=5, size=train_cnt)])\n",
    "Y_train = test_function(X_train)"
   ]
  },
  {
   "cell_type": "markdown",
   "metadata": {},
   "source": [
    "# Model"
   ]
  },
  {
   "cell_type": "code",
   "execution_count": 4,
   "metadata": {},
   "outputs": [],
   "source": [
    "gpmodel = gp.models.GPRegression(X_train.T, Y_train, \n",
    "                                 gp.kernels.Matern52(input_dim=1, lengthscale=torch.ones(1), variance=torch.Tensor([50.0])), \n",
    "                                 noise=torch.tensor(0.1), \n",
    "                                 jitter=1.0e-4)"
   ]
  },
  {
   "cell_type": "markdown",
   "metadata": {},
   "source": [
    "# Expected improvement"
   ]
  },
  {
   "cell_type": "code",
   "execution_count": 5,
   "metadata": {},
   "outputs": [],
   "source": [
    "normal_phi = lambda x: torch.exp(-x.pow(2)/2)/np.sqrt(2*np.pi)\n",
    "normal_Phi = lambda x: (1 + torch.erf(x / np.sqrt(2))) / 2\n",
    "  \n",
    "def expected_improvement(x):\n",
    "    \n",
    "    y_min = gpmodel.y.min()\n",
    "    \n",
    "    mu, variance = gpmodel(x, full_cov=False, noiseless=False)\n",
    "    \n",
    "    sigma = variance.sqrt()\n",
    "    \n",
    "    delta = y_min - mu\n",
    "    \n",
    "    EI = delta.clamp_min(0.0) + sigma*normal_phi(delta/sigma) - delta.abs()*normal_Phi(delta/sigma)\n",
    "    \n",
    "    return -EI"
   ]
  },
  {
   "cell_type": "markdown",
   "metadata": {},
   "source": [
    "# Lower confidence bound"
   ]
  },
  {
   "cell_type": "code",
   "execution_count": 6,
   "metadata": {},
   "outputs": [],
   "source": [
    "def lower_confidence_bound(x, kappa=2):\n",
    "    \n",
    "    mu, variance = gpmodel(x, full_cov=False, noiseless=False)\n",
    "    sigma = variance.sqrt()\n",
    "    \n",
    "    return mu - kappa * sigma"
   ]
  },
  {
   "cell_type": "code",
   "execution_count": 7,
   "metadata": {},
   "outputs": [
    {
     "data": {
      "text/plain": [
       "[<matplotlib.lines.Line2D at 0x12d410f60>]"
      ]
     },
     "execution_count": 7,
     "metadata": {},
     "output_type": "execute_result"
    },
    {
     "data": {
      "image/png": "[encoded data removed]",
      "text/plain": [
       "<Figure size 432x288 with 1 Axes>"
      ]
     },
     "metadata": {
      "needs_background": "light"
     },
     "output_type": "display_data"
    }
   ],
   "source": [
    "plt.plot(x_, expected_improvement(x_).detach().numpy(), color=\"red\")\n",
    "plt.plot(x_, lower_confidence_bound(x_).detach().numpy(), color=\"blue\")\n",
    "plt.plot(x_, test_function(x_), color=\"black\")"
   ]
  },
  {
   "cell_type": "markdown",
   "metadata": {},
   "source": [
    "# Minimising acquisition function"
   ]
  },
  {
   "cell_type": "code",
   "execution_count": 11,
   "metadata": {},
   "outputs": [
    {
     "name": "stdout",
     "output_type": "stream",
     "text": [
      "x_st tensor([0.5000], requires_grad=True)\n",
      "x_st tensor([0.1960], requires_grad=True)\n",
      "x_st tensor([0.4345], requires_grad=True)\n",
      "x_st tensor([0.4269], requires_grad=True)\n",
      "x_st tensor([0.4260], requires_grad=True)\n"
     ]
    },
    {
     "data": {
      "text/plain": [
       "tensor([-1.0998], grad_fn=<NegBackward>)"
      ]
     },
     "execution_count": 11,
     "metadata": {},
     "output_type": "execute_result"
    }
   ],
   "source": [
    "acquisition_func = expected_improvement\n",
    "# acquisition_func = lower_confidence_bound\n",
    "\n",
    "x_st = torch.Tensor([0.5]).detach().requires_grad_(True)\n",
    "\n",
    "# unconstrained minimiser\n",
    "minimizer = optim.LBFGS([x_st])\n",
    "\n",
    "def closure():\n",
    "    # clear gradients\n",
    "    minimizer.zero_grad()\n",
    "\n",
    "    y = acquisition_func(x_st)\n",
    "\n",
    "    autograd.backward(x_st, autograd.grad(y, x_st))\n",
    "    \n",
    "    print(\"x_st\", x_st)\n",
    "    \n",
    "    return y\n",
    "\n",
    "minimizer.step(closure)"
   ]
  },
  {
   "cell_type": "code",
   "execution_count": 12,
   "metadata": {},
   "outputs": [
    {
     "name": "stdout",
     "output_type": "stream",
     "text": [
      "x_st tensor([0.5000], requires_grad=True)\n",
      "x_st tensor([1.5000], requires_grad=True)\n",
      "x_st tensor([0.5751], requires_grad=True)\n",
      "x_st tensor([0.5566], requires_grad=True)\n",
      "x_st tensor([0.5604], requires_grad=True)\n",
      "x_st tensor([0.5604], requires_grad=True)\n"
     ]
    },
    {
     "data": {
      "text/plain": [
       "tensor([-11.9301], grad_fn=<SubBackward0>)"
      ]
     },
     "execution_count": 12,
     "metadata": {},
     "output_type": "execute_result"
    }
   ],
   "source": [
    "acquisition_func = lower_confidence_bound\n",
    "\n",
    "x_st = torch.Tensor([0.5]).detach().requires_grad_(True)\n",
    "\n",
    "# unconstrained minimiser\n",
    "minimizer = optim.LBFGS([x_st])\n",
    "\n",
    "def closure():\n",
    "    # clear gradients\n",
    "    minimizer.zero_grad()\n",
    "\n",
    "    y = acquisition_func(x_st)\n",
    "\n",
    "    autograd.backward(x_st, autograd.grad(y, x_st))\n",
    "    \n",
    "    print(\"x_st\", x_st)\n",
    "    \n",
    "    return y\n",
    "\n",
    "minimizer.step(closure)"
   ]
  },
  {
   "cell_type": "code",
   "execution_count": null,
   "metadata": {},
   "outputs": [],
   "source": []
  }
 ],
 "metadata": {
  "kernelspec": {
   "display_name": "Python 3",
   "language": "python",
   "name": "python3"
  },
  "language_info": {
   "codemirror_mode": {
    "name": "ipython",
    "version": 3
   },
   "file_extension": ".py",
   "mimetype": "text/x-python",
   "name": "python",
   "nbconvert_exporter": "python",
   "pygments_lexer": "ipython3",
   "version": "3.7.3"
  }
 },
 "nbformat": 4,
 "nbformat_minor": 2
}
