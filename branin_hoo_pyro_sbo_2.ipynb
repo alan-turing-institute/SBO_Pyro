{
 "cells": [
  {
   "cell_type": "markdown",
   "metadata": {},
   "source": [
    "# Structured Bayesian Optimisation with Pyro\n",
    "\n",
    "Goal: apply Structured Bayesian Optimisation (SBO) strategy to minimize Branin-Hoo function with pyro.\n",
    "\n",
    "Based on: \n",
    "- branin_hoo_pyro_semiparam_brooks.ipynb\n",
    "- branin_hoo_pyro_bo.ipynb"
   ]
  },
  {
   "cell_type": "code",
   "execution_count": 1,
   "metadata": {},
   "outputs": [],
   "source": [
    "import numpy as np\n",
    "import matplotlib.pyplot as plt\n",
    "\n",
    "import torch\n",
    "import torch.nn as nn\n",
    "from torch.distributions import constraints, transform_to\n",
    "import torch.optim as optim\n",
    "import torch.autograd as autograd\n",
    "\n",
    "import pyro\n",
    "import pyro.distributions as dist\n",
    "import pyro.contrib.gp as gp\n",
    "from pyro.nn import PyroSample, PyroModule\n",
    "from pyro.infer import autoguide, SVI, Trace_ELBO\n"
   ]
  },
  {
   "cell_type": "code",
   "execution_count": 2,
   "metadata": {},
   "outputs": [
    {
     "name": "stdout",
     "output_type": "stream",
     "text": [
      "1.3.0.post2\n",
      "1.0.0\n"
     ]
    }
   ],
   "source": [
    "print(torch.__version__)\n",
    "print(pyro.__version__)"
   ]
  },
  {
   "cell_type": "markdown",
   "metadata": {},
   "source": [
    "# Objective function"
   ]
  },
  {
   "cell_type": "code",
   "execution_count": 3,
   "metadata": {},
   "outputs": [],
   "source": [
    "const_x1_min = -5\n",
    "const_x1_max = 10\n",
    "\n",
    "const_x2_min = 0\n",
    "const_x2_max = 15\n",
    "\n",
    "# Creating constraints\n",
    "constr = [\n",
    "    constraints.interval(const_x1_min, const_x1_max),\n",
    "    constraints.interval(const_x2_min, const_x2_max)\n",
    "]\n",
    "\n",
    "def branin_hoo(x):\n",
    "    \"\"\" Compute Branin-Hoo function for fixed constants \"\"\"\n",
    "    a = 1.0\n",
    "    b = 5.1 / (4 * np.pi**2)\n",
    "    c = 5.0 / np.pi\n",
    "    r = 6.0\n",
    "    s = 10.0\n",
    "    t = 1.0 / (8 * np.pi)\n",
    "    x1 = x[...,0]\n",
    "    x2 = x[...,1]\n",
    "    return a * (x2 - b*x1**2 + c*x1 - r)**2 + s*(1 - t)*torch.cos(x1) + s"
   ]
  },
  {
   "cell_type": "markdown",
   "metadata": {},
   "source": [
    "# Visualisation"
   ]
  },
  {
   "cell_type": "code",
   "execution_count": 4,
   "metadata": {},
   "outputs": [],
   "source": [
    "def plot_function(f, n_points=100):\n",
    "    XX, YY = np.meshgrid(np.linspace(-5, 10, n_points), np.linspace(0, 15, n_points))\n",
    "    ZZ = f(torch.FloatTensor(np.stack([XX.ravel(), YY.ravel()]).T))\n",
    "    plt.imshow(ZZ.reshape(n_points, n_points));\n",
    "    plt.xticks(np.linspace(0, n_points, 6), np.linspace(-5, 10, 6))\n",
    "    plt.yticks(np.linspace(0, n_points, 6), np.linspace(0, 15, 6))\n",
    "    plt.xlabel('x1')\n",
    "    plt.ylabel('x2')\n",
    "    plt.set_cmap('jet')\n",
    "    plt.colorbar()\n",
    "    plt.gca().invert_yaxis()"
   ]
  },
  {
   "cell_type": "code",
   "execution_count": 5,
   "metadata": {},
   "outputs": [
    {
     "data": {
      "image/png": "[encoded data removed]",
      "text/plain": [
       "<Figure size 432x288 with 2 Axes>"
      ]
     },
     "metadata": {
      "needs_background": "light"
     },
     "output_type": "display_data"
    }
   ],
   "source": [
    "plot_function(branin_hoo)"
   ]
  },
  {
   "cell_type": "markdown",
   "metadata": {},
   "source": [
    "# Initial (train) data\n",
    "\n",
    "Generating random training points"
   ]
  },
  {
   "cell_type": "code",
   "execution_count": 6,
   "metadata": {},
   "outputs": [],
   "source": [
    "torch.random.manual_seed(555)\n",
    "\n",
    "N_points = 10\n",
    "X = torch.rand(N_points, 2)*15 + torch.FloatTensor([-5, 0])\n",
    "y = branin_hoo(X)"
   ]
  },
  {
   "cell_type": "code",
   "execution_count": 7,
   "metadata": {
    "scrolled": true
   },
   "outputs": [
    {
     "name": "stdout",
     "output_type": "stream",
     "text": [
      "Training points:  tensor([[ 6.4829,  6.8012],\n",
      "        [-1.2363,  2.9526],\n",
      "        [ 6.7724,  0.4462],\n",
      "        [ 5.6993, 12.4891],\n",
      "        [ 6.8361,  6.4078],\n",
      "        [ 2.8859,  6.6131],\n",
      "        [-2.6704, 14.5762],\n",
      "        [-4.4361,  2.1932],\n",
      "        [ 7.4722, 12.1322],\n",
      "        [ 9.3650, 12.4265]])\n"
     ]
    }
   ],
   "source": [
    "print(\"Training points: \", X)"
   ]
  },
  {
   "cell_type": "markdown",
   "metadata": {},
   "source": [
    "# Parametric model in pyro"
   ]
  },
  {
   "cell_type": "markdown",
   "metadata": {},
   "source": [
    "Matching the parametric function used in BOAT"
   ]
  },
  {
   "cell_type": "code",
   "execution_count": 8,
   "metadata": {},
   "outputs": [],
   "source": [
    "class ParametricMeanFn(PyroModule):\n",
    "    \n",
    "    def __init__(self):\n",
    "        super().__init__()\n",
    "        self.alpha = PyroSample(dist.Uniform(0, 20))\n",
    "        self.beta = PyroSample(dist.Uniform(0, 20))\n",
    "        self.gamma = PyroSample(dist.Uniform(0, 20))\n",
    "        \n",
    "    def forward(self, X):\n",
    "        x1 = X[...,0]\n",
    "        x2 = X[...,1]\n",
    "        return self.alpha*torch.cos(x1) + self.beta*torch.pow(x1, 4) + \\\n",
    "            torch.pow(x2, 2) + self.gamma"
   ]
  },
  {
   "cell_type": "markdown",
   "metadata": {},
   "source": [
    "# Semi parametric model as implemented by Brooks"
   ]
  },
  {
   "cell_type": "code",
   "execution_count": 9,
   "metadata": {},
   "outputs": [],
   "source": [
    "class SemiParametricModel(PyroModule):\n",
    "\n",
    "    def __init__(self, X, y, parametric_mean):\n",
    "        \"\"\" Defines a semi-parametric model, where the `parametric_mean` is a `PyroModule` \"\"\"\n",
    "        super().__init__()\n",
    "        self.parametric_mean = parametric_mean\n",
    "        self.X = X\n",
    "        self.y = y\n",
    "        \n",
    "        # Define GP (to be used for residual)\n",
    "        self.kernel = gp.kernels.Matern52(input_dim=X.shape[1], lengthscale=100*torch.ones(X.shape[1]))\n",
    "        self.gp = gp.models.GPRegression(X, y, self.kernel) \n",
    "        self.gp.kernel.lengthscale = PyroSample(dist.Uniform(0, 15).expand([2]).to_event())\n",
    "        self.gp.kernel.variance = PyroSample(dist.Uniform(0, 200))\n",
    "        self.gp.noise = PyroSample(dist.Uniform(0, 1))\n",
    "\n",
    "    @pyro.nn.pyro_method\n",
    "    def model(self):\n",
    "        # Model definition code: explicitly subtract out the parametric mean, then call gp.model\n",
    "        self.gp.set_data(self.X, self.y - self.parametric_mean(self.X))\n",
    "        return self.gp.model()\n",
    "        \n",
    "    def forward(self, X):\n",
    "        ''' Predict on new data points '''\n",
    "        # reset \"data\" of GP to reflect mean estimate\n",
    "        self.gp.set_data(self.X, self.y - self.parametric_mean(self.X))\n",
    "        # sample mu, sigma\n",
    "        mu, sigma = self.gp(X)\n",
    "        # sample value of y\n",
    "        y_hat = mu + self.parametric_mean(X)\n",
    "        pyro.sample('y', dist.Normal(y_hat, sigma))\n",
    "        # return the mean, in case we want to ignore the GP noise for some reason later\n",
    "        return y_hat, sigma"
   ]
  },
  {
   "cell_type": "markdown",
   "metadata": {},
   "source": [
    "# The minimalistic SBO Algorithm"
   ]
  },
  {
   "cell_type": "markdown",
   "metadata": {},
   "source": [
    "### Acquisition function"
   ]
  },
  {
   "cell_type": "code",
   "execution_count": 10,
   "metadata": {},
   "outputs": [],
   "source": [
    "def lower_confidence_bound(sbo_model, x, kappa=2):\n",
    "    \"\"\" Lower Confidence Bound (LCB): $\\alpha(x)=\\mu(x) - \\kappa\\sigma(x)$ \"\"\"\n",
    "    \n",
    "    mu, variance = sbo_model(x)\n",
    "    sigma = variance.sqrt()\n",
    "    \n",
    "    return mu - kappa * sigma\n",
    "\n",
    "normal_phi = lambda x: torch.exp(-x.pow(2)/2)/np.sqrt(2*np.pi)\n",
    "normal_Phi = lambda x: (1 + torch.erf(x / np.sqrt(2))) / 2\n",
    "\n",
    "def expected_improvement(sbo_model, x):\n",
    "    \"\"\" Brooks' implementation of expected improvement (EI). \"\"\"\n",
    "    \n",
    "    y_min = sbo_model.y.min()\n",
    "    mu, variance = sbo_model(x)\n",
    "    sigma = variance.sqrt()\n",
    "    delta = y_min - mu\n",
    "    EI = delta.clamp_min(0.0) + sigma*normal_phi(delta/sigma) - delta.abs()*normal_Phi(delta/sigma)\n",
    "    \n",
    "    return -EI\n",
    "\n",
    "def acquisition_func(sbo_model, x, af='EI'):\n",
    "    \"\"\" Defines acquisition function. \"\"\"\n",
    "\n",
    "    if af == \"EI\":\n",
    "        return expected_improvement(sbo_model, x)\n",
    "    elif af == \"LCB\":\n",
    "        return lower_confidence_bound(sbo_model, x)\n",
    "    else:\n",
    "        return None"
   ]
  },
  {
   "cell_type": "markdown",
   "metadata": {},
   "source": [
    "### Training the sbo model"
   ]
  },
  {
   "cell_type": "code",
   "execution_count": 11,
   "metadata": {},
   "outputs": [],
   "source": [
    "def train(sbo_model, num_steps=1000, adam_params={\"lr\":0.1}):\n",
    "    \"\"\" Trains the semi-parametric model. \"\"\"\n",
    "    \n",
    "    # TODO: check if param store needs to be cleared here.\n",
    "    pyro.clear_param_store()\n",
    "    # setup the inference algorithm\n",
    "    guide = autoguide.AutoMultivariateNormal(sbo_model.model)\n",
    "    optimizer = pyro.optim.Adam(adam_params)\n",
    "    loss = Trace_ELBO()\n",
    "    svi = SVI(sbo_model.model, guide, optimizer, loss)\n",
    "    # do gradient steps\n",
    "    losses = []\n",
    "    for _ in range(num_steps):\n",
    "        losses.append(svi.step())\n",
    "    \n",
    "    return losses, guide"
   ]
  },
  {
   "cell_type": "markdown",
   "metadata": {},
   "source": [
    "### Finding new candidates"
   ]
  },
  {
   "cell_type": "code",
   "execution_count": 12,
   "metadata": {},
   "outputs": [],
   "source": [
    "def find_a_candidate(sbo_model, x_init, constr, num_steps=1000):\n",
    "    \"\"\" Finds new candidate \"\"\"\n",
    "    \n",
    "    def transf_values(values, constr, dims, inv_mode=False):\n",
    "        \"\"\" Transforming (un)constrained variables to (un)constrained domain \"\"\"\n",
    "        \n",
    "        x_tmp = ()\n",
    "        for i in range(dims):\n",
    "            if inv_mode:\n",
    "                x_tmp += (transform_to(constr[i]).inv(values[:, i]), )\n",
    "            else:\n",
    "                x_tmp += (transform_to(constr[i])(values[:, i]), )\n",
    "            \n",
    "        x = torch.stack(x_tmp, dim=1)\n",
    "        return x\n",
    "            \n",
    "    x_dims = x_init.shape[-1]\n",
    "    \n",
    "    x_uncon_init = transf_values(x_init, constr, x_dims, inv_mode=True)\n",
    "    x_uncon = x_uncon_init.clone().detach().requires_grad_(True)\n",
    "    \n",
    "    # unconstrained minimiser \n",
    "    # TODO: at the moment we are using torch optimizer, should we change to pyro?\n",
    "    minimizer = optim.Adam([x_uncon])\n",
    "    \n",
    "    def closure():\n",
    "        minimizer.zero_grad()\n",
    "        x = transf_values(x_uncon, constr, x_dims)\n",
    "        y = acquisition_func(sbo_model, x)\n",
    "        autograd.backward(x_uncon, autograd.grad(y, x_uncon))      \n",
    "        return y\n",
    "    \n",
    "    for _ in range(num_steps):\n",
    "        minimizer.step(closure)\n",
    "   \n",
    "    x = transf_values(x_uncon, constr, x_dims)\n",
    "    \n",
    "    return x.detach()"
   ]
  },
  {
   "cell_type": "code",
   "execution_count": 13,
   "metadata": {},
   "outputs": [],
   "source": [
    "def next_x(sbo_model, constr, num_candidates=5):\n",
    "    \"\"\" Finds the next best candidate on the acquisition function surface \"\"\"\n",
    "    \n",
    "    candidates = []\n",
    "    values = []\n",
    "    \n",
    "    # start with last step\n",
    "    x_init = sbo_model.X[-1:]\n",
    "    for i in range(num_candidates):\n",
    "\n",
    "        x = find_a_candidate(sbo_model, x_init, constr)\n",
    "        y = acquisition_func(sbo_model, x)\n",
    "    \n",
    "        candidates.append(x)\n",
    "        values.append(y)\n",
    "        \n",
    "        # a new random attempt initial point\n",
    "        x_init = torch.stack((\n",
    "                x[:,0].new_empty(1).uniform_(const_x1_min, const_x1_max),\n",
    "                x[:,1].new_empty(1).uniform_(const_x2_min, const_x2_max)), dim=1)\n",
    "        \n",
    "    argmin = torch.min(torch.cat(values), dim=0)[1].item()\n",
    "        \n",
    "    return candidates[argmin]"
   ]
  },
  {
   "cell_type": "markdown",
   "metadata": {},
   "source": [
    "### Updating posterior"
   ]
  },
  {
   "cell_type": "code",
   "execution_count": 14,
   "metadata": {},
   "outputs": [],
   "source": [
    "def update_posterior(sbo_model, x_new):\n",
    "    \n",
    "    # evaluate f at new point\n",
    "    bh_y = branin_hoo(x_new) \n",
    "        \n",
    "    # incorporate new evaluation\n",
    "    sbo_model.X = torch.cat([sbo_model.X, x_new]) \n",
    "    sbo_model.y = torch.cat([sbo_model.y, bh_y])\n",
    "    \n",
    "    losses, guide = train(sbo_model)\n",
    "    return guide"
   ]
  },
  {
   "cell_type": "markdown",
   "metadata": {},
   "source": [
    "# MAIN"
   ]
  },
  {
   "cell_type": "code",
   "execution_count": 15,
   "metadata": {},
   "outputs": [],
   "source": [
    "def viz_sbo_model(sbo_model, sbo_model_guide):\n",
    "    predictive = pyro.infer.Predictive(sbo_model, guide=sbo_model_guide, num_samples=100, return_sites=('y',))\n",
    "\n",
    "    plt.figure(figsize=(6,4))\n",
    "    with torch.no_grad():\n",
    "        plot_function(lambda X: predictive(X)['y'].mean(0))"
   ]
  },
  {
   "cell_type": "markdown",
   "metadata": {},
   "source": [
    "## Initial"
   ]
  },
  {
   "cell_type": "code",
   "execution_count": 16,
   "metadata": {},
   "outputs": [],
   "source": [
    "pyro.clear_param_store()\n",
    "\n",
    "# initial training of the model\n",
    "semiparametric = SemiParametricModel(X, y, ParametricMeanFn())\n",
    "_, semiparametric_guide = train(semiparametric)"
   ]
  },
  {
   "cell_type": "code",
   "execution_count": 17,
   "metadata": {},
   "outputs": [
    {
     "data": {
      "image/png": "[encoded data removed]",
      "text/plain": [
       "<Figure size 432x288 with 2 Axes>"
      ]
     },
     "metadata": {
      "needs_background": "light"
     },
     "output_type": "display_data"
    }
   ],
   "source": [
    "viz_sbo_model(semiparametric, semiparametric_guide)"
   ]
  },
  {
   "cell_type": "markdown",
   "metadata": {},
   "source": [
    "## Optimisation"
   ]
  },
  {
   "cell_type": "code",
   "execution_count": null,
   "metadata": {},
   "outputs": [
    {
     "name": "stdout",
     "output_type": "stream",
     "text": [
      "SBO step:  1 new point:  tensor([[-2.3150,  8.1694]])\n",
      "SBO step:  2 new point:  tensor([[-2.3224,  8.2145]])\n",
      "SBO step:  3 new point:  tensor([[-2.3269,  8.2314]])\n",
      "SBO step:  4 new point:  tensor([[-0.1806, 12.5223]])\n",
      "SBO step:  5 new point:  tensor([[6.9742, 3.4246]])\n",
      "SBO step:  6 new point:  tensor([[9.3347, 6.3127]])\n",
      "SBO step:  7 new point:  tensor([[ 0.5461, 12.1914]])\n",
      "SBO step:  8 new point:  tensor([[2.6840, 8.5925]])\n",
      "SBO step:  9 new point:  tensor([[5.4688, 6.8006]])\n"
     ]
    }
   ],
   "source": [
    "sbo_steps = 10\n",
    "\n",
    "for i in range(sbo_steps):\n",
    "    \n",
    "    xmin = next_x(semiparametric, constr)\n",
    "    \n",
    "    print(\"SBO step: \", i+1, \"new point: \", xmin)\n",
    "    \n",
    "    semiparametric_guide = update_posterior(semiparametric, xmin)\n",
    "    \n",
    "    plt.figure(figsize=(3,2))\n",
    "    viz_sbo_model(semiparametric, semiparametric_guide)"
   ]
  }
 ],
 "metadata": {
  "kernelspec": {
   "display_name": "Python 3",
   "language": "python",
   "name": "python3"
  },
  "language_info": {
   "codemirror_mode": {
    "name": "ipython",
    "version": 3
   },
   "file_extension": ".py",
   "mimetype": "text/x-python",
   "name": "python",
   "nbconvert_exporter": "python",
   "pygments_lexer": "ipython3",
   "version": "3.7.4"
  }
 },
 "nbformat": 4,
 "nbformat_minor": 2
}
