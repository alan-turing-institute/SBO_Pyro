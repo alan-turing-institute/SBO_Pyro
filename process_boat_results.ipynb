{
 "cells": [
  {
   "cell_type": "code",
   "execution_count": 1,
   "metadata": {},
   "outputs": [],
   "source": [
    "import glob\n",
    "import numpy as np\n",
    "import matplotlib.pyplot as plt\n",
    "import torch\n",
    "import math\n",
    "from scipy import stats\n",
    "from math import sqrt"
   ]
  },
  {
   "cell_type": "code",
   "execution_count": 2,
   "metadata": {},
   "outputs": [],
   "source": [
    "def parse_boat_results(boat_res_file):\n",
    "    \n",
    "    num_lines = sum(1 for line in open(boat_res_file))\n",
    "    \n",
    "    boat_result = np.zeros([num_lines, 3])\n",
    "    \n",
    "    with open(boat_res_file) as boat_f:\n",
    "        for line_cnt, line in enumerate(boat_f):\n",
    "            for el_cnt, arr_el in enumerate(line.strip().split(\",\")):\n",
    "                if el_cnt < 3:\n",
    "                    boat_result[line_cnt, el_cnt] = float(arr_el.split(\"=\")[1])\n",
    "    \n",
    "    return boat_result\n",
    "\n",
    "def find_best_solution(xmins, target_lms):\n",
    "    closest_dist = np.inf\n",
    "    closest_point = None\n",
    "    \n",
    "    for xmin in xmins:\n",
    "        for bh_lm in target_lms:\n",
    "            dist = torch.dist(xmin, bh_lm).numpy()\n",
    "            if dist < closest_dist: \n",
    "                closest_dist = dist\n",
    "                closest_point = xmin\n",
    "                \n",
    "    return closest_point, closest_dist\n",
    "\n",
    "def analyse_performance(points):\n",
    "    \n",
    "    no_tests = len(points)\n",
    "    no_steps = len(points[no_tests-1])\n",
    "    perform_stats = np.zeros([no_steps, 5], dtype=np.float32)\n",
    "    \n",
    "    # For each step calculate statistics for euclidean distance to the closest minima\n",
    "    \n",
    "    for i in range(no_steps):\n",
    "        dist_arr = np.zeros(no_tests, dtype=np.float32)\n",
    "   \n",
    "        for j in range(no_tests):\n",
    "            point = torch.tensor([points[j][i][0], points[j][i][1]])\n",
    "            dist = find_best_solution([point], branin_hoo_lms)\n",
    "            dist_arr[j] = dist[1]\n",
    "\n",
    "        dist_stats = stats.describe(dist_arr)\n",
    "        \n",
    "        perform_stats[i][0] = i\n",
    "        perform_stats[i][1] = dist_stats.mean\n",
    "        perform_stats[i][2] = sqrt(dist_stats.variance)\n",
    "        perform_stats[i][3] = dist_stats.minmax[0]\n",
    "        perform_stats[i][4] = dist_stats.minmax[1]\n",
    "        \n",
    "    return perform_stats"
   ]
  },
  {
   "cell_type": "code",
   "execution_count": 3,
   "metadata": {},
   "outputs": [],
   "source": [
    "branin_hoo_lms = torch.stack(\n",
    "    (torch.tensor([-math.pi, math.pi, 9.42478]), \n",
    "     torch.tensor([12.275, 2.275, 2.475])), dim=1)"
   ]
  },
  {
   "cell_type": "code",
   "execution_count": 26,
   "metadata": {},
   "outputs": [],
   "source": [
    "boat_res_files = glob.glob(\"boat_results/struct_*.out\")\n",
    "\n",
    "boat_results = []\n",
    "\n",
    "for boat_res_file in boat_res_files:\n",
    "    boat_results.append(parse_boat_results(boat_res_file))\n",
    "\n",
    "bo_perf_stats_sbo = analyse_performance(boat_results)"
   ]
  },
  {
   "cell_type": "code",
   "execution_count": 27,
   "metadata": {},
   "outputs": [
    {
     "name": "stderr",
     "output_type": "stream",
     "text": [
      "/usr/local/lib/python3.7/site-packages/numpy/core/fromnumeric.py:3367: RuntimeWarning: Degrees of freedom <= 0 for slice\n",
      "  **kwargs)\n",
      "/usr/local/lib/python3.7/site-packages/numpy/core/_methods.py:132: RuntimeWarning: invalid value encountered in true_divide\n",
      "  ret = ret.dtype.type(ret / rcount)\n"
     ]
    }
   ],
   "source": [
    "boat_res_files = glob.glob(\"boat_results/bo_*.out\")\n",
    "\n",
    "boat_results = []\n",
    "\n",
    "for boat_res_file in boat_res_files:\n",
    "    boat_results.append(parse_boat_results(boat_res_file))\n",
    "\n",
    "bo_perf_stats_bo = analyse_performance(boat_results)"
   ]
  },
  {
   "cell_type": "code",
   "execution_count": 31,
   "metadata": {},
   "outputs": [
    {
     "data": {
      "image/png": "[encoded data removed]",
      "text/plain": [
       "<Figure size 432x288 with 1 Axes>"
      ]
     },
     "metadata": {
      "needs_background": "light"
     },
     "output_type": "display_data"
    }
   ],
   "source": [
    "plt.figure()\n",
    "\n",
    "plt.scatter(bo_perf_stats_sbo[:, 0]+1, bo_perf_stats_sbo[:, 3], color='orange', marker='x', label='BOAT SBO min')\n",
    "plt.scatter(bo_perf_stats_sbo[:, 0]+1, bo_perf_stats_sbo[:, 4], color='r', marker='x', label='BOAT SBO max')\n",
    "plt.errorbar(bo_perf_stats_sbo[:, 0]+1, bo_perf_stats_sbo[:, 1], bo_perf_stats_sbo[:, 2], color='g', label='BOAT SBO avg')\n",
    "\n",
    "plt.plot(bo_perf_stats_bo[:20, 0]+1, bo_perf_stats_bo[:20, 1], color='black', label='BOAT BO')\n",
    "\n",
    "plt.legend();"
   ]
  },
  {
   "cell_type": "code",
   "execution_count": null,
   "metadata": {},
   "outputs": [],
   "source": []
  }
 ],
 "metadata": {
  "kernelspec": {
   "display_name": "Python 3",
   "language": "python",
   "name": "python3"
  },
  "language_info": {
   "codemirror_mode": {
    "name": "ipython",
    "version": 3
   },
   "file_extension": ".py",
   "mimetype": "text/x-python",
   "name": "python",
   "nbconvert_exporter": "python",
   "pygments_lexer": "ipython3",
   "version": "3.7.4"
  }
 },
 "nbformat": 4,
 "nbformat_minor": 2
}
