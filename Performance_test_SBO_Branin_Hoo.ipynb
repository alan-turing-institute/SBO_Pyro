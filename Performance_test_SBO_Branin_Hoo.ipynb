{
 "cells": [
  {
   "cell_type": "code",
   "execution_count": 1,
   "metadata": {},
   "outputs": [],
   "source": [
    "import numpy as np\n",
    "import matplotlib.pyplot as plt\n",
    "import math\n",
    "import copy\n",
    "\n",
    "import torch\n",
    "import torch.nn as nn\n",
    "from torch.distributions import constraints, transform_to\n",
    "import torch.optim as optim\n",
    "import torch.autograd as autograd\n",
    "\n",
    "import pyro\n",
    "import pyro.distributions as dist\n",
    "import pyro.contrib.gp as gp\n",
    "from pyro.nn import PyroSample, PyroModule\n",
    "from pyro.infer import autoguide, SVI, Trace_ELBO"
   ]
  },
  {
   "cell_type": "code",
   "execution_count": 2,
   "metadata": {},
   "outputs": [
    {
     "name": "stdout",
     "output_type": "stream",
     "text": [
      "1.3.0.post2\n",
      "1.0.0\n"
     ]
    }
   ],
   "source": [
    "print(torch.__version__)\n",
    "print(pyro.__version__)"
   ]
  },
  {
   "cell_type": "markdown",
   "metadata": {},
   "source": [
    "# Helper functions"
   ]
  },
  {
   "cell_type": "code",
   "execution_count": 3,
   "metadata": {},
   "outputs": [],
   "source": [
    "def set_random_seed(seed):\n",
    "    np.random.seed(seed)\n",
    "    torch.manual_seed(seed)\n",
    "    if torch.cuda.is_available():\n",
    "        torch.cuda.manual_seed_all(seed)\n",
    "        \n",
    "def plot_obj(obj_function):\n",
    "\n",
    "    steps = 1000\n",
    "    strides = 200\n",
    "\n",
    "    X1 = torch.linspace(const_x1_min, const_x1_max, steps)\n",
    "    X2 = torch.linspace(const_x2_min, const_x2_max, steps)\n",
    "\n",
    "    X1_mesh, X2_mesh = torch.meshgrid(X1, X2)\n",
    "    \n",
    "    Z_mesh = obj_function(torch.stack((X1_mesh.flatten(), X2_mesh.flatten()), dim=1)).reshape(steps, steps)\n",
    "    plt.contourf(\n",
    "        X1_mesh.detach().numpy(), \n",
    "        X2_mesh.detach().numpy(), \n",
    "        Z_mesh.detach().numpy(), strides)\n",
    "    \n",
    "    plt.colorbar()\n",
    "\n",
    "normal_phi = lambda x: torch.exp(-x.pow(2)/2)/np.sqrt(2*np.pi)\n",
    "normal_Phi = lambda x: (1 + torch.erf(x / np.sqrt(2))) / 2\n",
    "\n",
    "def find_best_solution(xmins, target_lms):\n",
    "    closest_dist = np.inf\n",
    "    closest_point = None\n",
    "    \n",
    "    for xmin in xmins:\n",
    "        for bh_lm in target_lms:\n",
    "            dist = np.linalg.norm(xmin-bh_lm)\n",
    "            if dist < closest_dist: \n",
    "                closest_dist = dist\n",
    "                closest_point = xmin\n",
    "                \n",
    "    return closest_point, closest_dist"
   ]
  },
  {
   "cell_type": "markdown",
   "metadata": {},
   "source": [
    "# Target function"
   ]
  },
  {
   "cell_type": "code",
   "execution_count": 4,
   "metadata": {},
   "outputs": [],
   "source": [
    "const_x1_min = -5\n",
    "const_x1_max = 10\n",
    "\n",
    "const_x2_min = 0\n",
    "const_x2_max = 15\n",
    "\n",
    "# Creating constraints\n",
    "constr = [\n",
    "    constraints.interval(const_x1_min, const_x1_max),\n",
    "    constraints.interval(const_x2_min, const_x2_max)\n",
    "]\n",
    "\n",
    "def branin_hoo(x):\n",
    "    \"\"\" Compute Branin-Hoo function for fixed constants \"\"\"\n",
    "    a = 1.0\n",
    "    b = 5.1 / (4 * np.pi**2)\n",
    "    c = 5.0 / np.pi\n",
    "    r = 6.0\n",
    "    s = 10.0\n",
    "    t = 1.0 / (8 * np.pi)\n",
    "    x1 = x[...,0]\n",
    "    x2 = x[...,1]\n",
    "    return a * (x2 - b*x1**2 + c*x1 - r)**2 + s*(1 - t)*torch.cos(x1) + s\n",
    "\n",
    "# Checking LMs\n",
    "branin_hoo_lms_np = np.stack(\n",
    "    (np.array([-math.pi, math.pi, 9.42478]), \n",
    "     np.array([12.275, 2.275, 2.475])), axis=1)\n",
    "\n",
    "branin_hoo_lms = torch.stack(\n",
    "    (torch.tensor([-math.pi, math.pi, 9.42478]), \n",
    "     torch.tensor([12.275, 2.275, 2.475])), dim=1)\n",
    "\n",
    "assert np.allclose(branin_hoo(branin_hoo_lms).numpy(),\n",
    "        np.array([0.397887, 0.397887, 0.397887], dtype=np.float32), rtol=1e-6)"
   ]
  },
  {
   "cell_type": "markdown",
   "metadata": {},
   "source": [
    "# SBO approach"
   ]
  },
  {
   "cell_type": "code",
   "execution_count": 5,
   "metadata": {},
   "outputs": [],
   "source": [
    "def train(model, num_steps=1000, adam_params={\"lr\":0.1}):\n",
    "    \"\"\" Trains the semi-parametric model. \"\"\"\n",
    "        \n",
    "    # Autoguide\n",
    "    guide = autoguide.AutoMultivariateNormal(model.model)\n",
    "\n",
    "    # Optimizer\n",
    "    optimizer = pyro.optim.Adam(adam_params)\n",
    "    loss = Trace_ELBO()\n",
    "    svi = SVI(model.model, guide, optimizer, loss)\n",
    "    \n",
    "    # do gradient steps\n",
    "    losses = []\n",
    "    for _ in range(num_steps):\n",
    "        losses.append(svi.step())\n",
    "    \n",
    "    return losses, guide"
   ]
  },
  {
   "cell_type": "code",
   "execution_count": 6,
   "metadata": {},
   "outputs": [],
   "source": [
    "def find_a_candidate(model_predict, x_init, constr, num_steps=1000, lr=0.1, num_samples=5):\n",
    "    \"\"\" Finds new candidate \"\"\"\n",
    "    \n",
    "    def transf_values(values, constr, dims, inv_mode=False):\n",
    "        \"\"\" Transforming (un)constrained variables to (un)constrained domain \"\"\"\n",
    "        \n",
    "        x_tmp = ()\n",
    "        for i in range(dims):\n",
    "            if inv_mode:\n",
    "                x_tmp += (transform_to(constr[i]).inv(values[:, i]), )\n",
    "            else:\n",
    "                x_tmp += (transform_to(constr[i])(values[:, i]), )\n",
    "            \n",
    "        x = torch.stack(x_tmp, dim=1)\n",
    "        return x\n",
    "            \n",
    "    x_dims = x_init.shape[-1]\n",
    "    \n",
    "    x_uncon_init = transf_values(x_init, constr, x_dims, inv_mode=True)\n",
    "    x_uncon = x_uncon_init.clone().detach().requires_grad_(True)\n",
    "    \n",
    "    # TODO: at the moment we are using torch optimizer, should we change to pyro?\n",
    "    #     unconstrained minimiser \n",
    "    minimizer = optim.Adam([x_uncon], lr=lr)\n",
    "    \n",
    "    def closure():\n",
    "        minimizer.zero_grad()\n",
    "        x = transf_values(x_uncon, constr, x_dims)\n",
    "        \n",
    "        y = model_predict(x)['EI'].mean(0)\n",
    "        \n",
    "        autograd.backward(x_uncon, autograd.grad(y, x_uncon))      \n",
    "        return y\n",
    "    \n",
    "    for _ in range(num_steps):\n",
    "        minimizer.step(closure)\n",
    "   \n",
    "    x = transf_values(x_uncon, constr, x_dims)\n",
    "    \n",
    "    return x.detach()"
   ]
  },
  {
   "cell_type": "code",
   "execution_count": 7,
   "metadata": {},
   "outputs": [],
   "source": [
    "def next_x(model_predict, constr, num_candidates=5, num_steps=1000, lr=0.1, num_samples=5):\n",
    "    \"\"\" Finds the next best candidate on the acquisition function surface \"\"\"\n",
    "    \n",
    "    candidates = []\n",
    "    values = []\n",
    "    \n",
    "    # start with the last step\n",
    "    x_init = model_predict.model.X[-1:]\n",
    "    for i in range(num_candidates):\n",
    "\n",
    "        x_can = find_a_candidate(model_predict, x_init, constr, \n",
    "                             num_steps=num_steps, lr=lr, num_samples=num_samples)\n",
    "        \n",
    "        y = model_predict(x_can)['EI'].mean(0)\n",
    "        \n",
    "        candidates.append(x_can)\n",
    "        values.append(y)\n",
    "        \n",
    "        # a new random attempt initial point\n",
    "        x_init = torch.stack((\n",
    "                x_can[:,0].new_empty(1).uniform_(const_x1_min, const_x1_max),\n",
    "                x_can[:,1].new_empty(1).uniform_(const_x2_min, const_x2_max)), dim=1)\n",
    "        \n",
    "    argmin = torch.min(torch.cat(values), dim=0)[1].item()\n",
    "        \n",
    "    return candidates[argmin]"
   ]
  },
  {
   "cell_type": "code",
   "execution_count": 8,
   "metadata": {},
   "outputs": [],
   "source": [
    "def update_posterior(model, obj_function, x_new, num_steps=1000, adam_params={\"lr\":0.1}):\n",
    "    \n",
    "    # evaluate f at new point\n",
    "    bh_y = obj_function(x_new) \n",
    "        \n",
    "    # incorporate new evaluation\n",
    "    X = torch.cat([model.X, x_new]) \n",
    "    y = torch.cat([model.y, bh_y])\n",
    "    \n",
    "    model.X = X\n",
    "    model.y = y\n",
    "    \n",
    "    # TODO: Check if this necessary\n",
    "    model.gp.set_data(X, y)\n",
    "    \n",
    "    losses, guide = train(model, num_steps=adam_num_steps, adam_params=adam_params)\n",
    "    \n",
    "    return guide"
   ]
  },
  {
   "cell_type": "markdown",
   "metadata": {},
   "source": [
    "# SBO model"
   ]
  },
  {
   "cell_type": "code",
   "execution_count": 9,
   "metadata": {},
   "outputs": [],
   "source": [
    "class ParametricMeanFn(PyroModule):\n",
    "    \n",
    "    def __init__(self):\n",
    "        super().__init__()\n",
    "        self.alpha = PyroSample(dist.Uniform(0, 20))\n",
    "        self.beta = PyroSample(dist.Uniform(0, 20))\n",
    "        self.gamma = PyroSample(dist.Uniform(0, 20))\n",
    "        \n",
    "    def forward(self, X):\n",
    "        x1 = X[...,0]\n",
    "        x2 = X[...,1]\n",
    "        return self.alpha*torch.cos(x1) + self.beta*torch.pow(x1, 4) + torch.pow(x2, 2) + self.gamma"
   ]
  },
  {
   "cell_type": "code",
   "execution_count": 10,
   "metadata": {},
   "outputs": [],
   "source": [
    "class SemiParametricModel(PyroModule):\n",
    "\n",
    "    def __init__(self, X, y, parametric_mean, kernel):\n",
    "        \"\"\" Defines a semi-parametric model, where the `parametric_mean` is a `PyroModule` \"\"\"\n",
    "        super().__init__()\n",
    "                \n",
    "        self.X = X\n",
    "        self.y = y\n",
    "        \n",
    "        self.parametric_mean = parametric_mean\n",
    "        \n",
    "        self.kernel = kernel\n",
    "        self.gp = gp.models.GPRegression(X, y, self.kernel)\n",
    "\n",
    "    @pyro.nn.pyro_method\n",
    "    def model(self):\n",
    "        # Model definition code: explicitly subtract out the parametric mean, then call gp.model\n",
    "        self.gp.set_data(self.X, self.y - self.parametric_mean(self.X))\n",
    "        return self.gp.model()\n",
    "        \n",
    "    def forward(self, X):\n",
    "        ''' Predict on new data points '''\n",
    "        \n",
    "        # reset \"data\" of GP to reflect mean estimate\n",
    "        self.gp.set_data(self.X, self.y - self.parametric_mean(self.X))\n",
    "        \n",
    "        # sample mu, sigma\n",
    "        mu, sigma = self.gp(X)\n",
    "        \n",
    "        # sample value of y\n",
    "        y_hat = mu + self.parametric_mean(X)\n",
    "        pyro.sample('y', dist.Normal(y_hat, sigma))\n",
    "        \n",
    "        # compute expected improvement\n",
    "        y_min = self.y.min()\n",
    "        delta = y_min - mu\n",
    "        EI = delta.clamp_min(0.0) + sigma*normal_phi(delta/sigma) - delta.abs()*normal_Phi(delta/sigma)\n",
    "        \n",
    "        pyro.sample('EI', dist.Delta(-EI))\n",
    "        \n",
    "        # return the mean, in case we want to ignore the GP noise for some reason later\n",
    "        return y_hat"
   ]
  },
  {
   "cell_type": "markdown",
   "metadata": {},
   "source": [
    "# Training data"
   ]
  },
  {
   "cell_type": "code",
   "execution_count": 11,
   "metadata": {},
   "outputs": [
    {
     "data": {
      "image/png": "[encoded data removed]",
      "text/plain": [
       "<Figure size 432x288 with 2 Axes>"
      ]
     },
     "metadata": {
      "needs_background": "light"
     },
     "output_type": "display_data"
    }
   ],
   "source": [
    "set_random_seed(555)\n",
    "\n",
    "# Training points\n",
    "N_train = 10\n",
    "X_train = torch.rand(N_train, 2)*15 + torch.FloatTensor([const_x1_min, const_x2_min])\n",
    "y_train = branin_hoo(X_train)\n",
    "\n",
    "# Initial points\n",
    "plot_obj(branin_hoo)\n",
    "plt.scatter(X_train[:,0].detach().numpy(), X_train[:,1].detach().numpy(), \n",
    "            marker=\"x\", s=200, c='orange', zorder=2, linewidth=4);"
   ]
  },
  {
   "cell_type": "markdown",
   "metadata": {},
   "source": [
    "# StructBayesOpt Paramaters"
   ]
  },
  {
   "cell_type": "code",
   "execution_count": 12,
   "metadata": {},
   "outputs": [],
   "source": [
    "# Optimiser parameters\n",
    "adam_num_steps = 1000\n",
    "adam_params={\"lr\": 0.1}\n",
    "\n",
    "num_samples = 1\n",
    "num_candidates = 10\n",
    "\n",
    "sbo_steps = 20\n",
    "\n",
    "num_tests = 20"
   ]
  },
  {
   "cell_type": "markdown",
   "metadata": {},
   "source": [
    "# StructBayesOpt"
   ]
  },
  {
   "cell_type": "code",
   "execution_count": 13,
   "metadata": {},
   "outputs": [
    {
     "name": "stdout",
     "output_type": "stream",
     "text": [
      "  SBO STEP:  1 x_new: [1.1124425  0.00214902]  distance:  3.0468511508712295\n",
      "  SBO STEP:  2 x_new: [5.5375624 2.8963118]  distance:  2.4752169978497607\n",
      "  SBO STEP:  3 x_new: [-4.999261 10.621178]  distance:  2.4871790467947763\n",
      "  SBO STEP:  4 x_new: [ 9.998421 14.999922]  distance:  12.538051273383306\n",
      "  SBO STEP:  5 x_new: [nan nan]  distance:  inf\n",
      "  SBO STEP:  1 x_new: [9.998709e+00 6.378304e-03]  distance:  2.5344599539667176\n",
      "  SBO STEP:  2 x_new: [nan nan]  distance:  inf\n",
      "  SBO STEP:  1 x_new: [-4.997884 14.973765]  distance:  3.2755383294512765\n",
      "  SBO STEP:  2 x_new: [nan nan]  distance:  inf\n",
      "  SBO STEP:  1 x_new: [4.4783516e+00 3.5533383e-03]  distance:  2.63560133534383\n",
      "  SBO STEP:  2 x_new: [-4.99891   9.596868]  distance:  3.2591441974079545\n",
      "  SBO STEP:  3 x_new: [nan nan]  distance:  inf\n",
      "  SBO STEP:  1 x_new: [ 0.9269519 14.995102 ]  distance:  4.8940789906665305\n"
     ]
    }
   ],
   "source": [
    "sbo_tests_search_points = []\n",
    "\n",
    "for test_i in range(num_tests):\n",
    "    \n",
    "    try:\n",
    "        pyro.clear_param_store()\n",
    "\n",
    "        kernel = gp.kernels.Matern52(input_dim=X_train.shape[1], lengthscale=100*torch.ones(X_train.shape[1]))\n",
    "        semi_model = SemiParametricModel(X_train, y_train, ParametricMeanFn(), kernel)\n",
    "\n",
    "        # Set GP priors\n",
    "        semi_model.gp.kernel.lengthscale = pyro.nn.PyroSample(dist.LogNormal(3, 1).expand([2]).to_event())\n",
    "        semi_model.gp.kernel.variance = pyro.nn.PyroSample(dist.LogNormal(5, 2))\n",
    "        semi_model.gp.noise = pyro.nn.PyroSample(dist.LogNormal(0, 1))\n",
    "\n",
    "        # Autoguide\n",
    "        semi_model_guide = autoguide.AutoMultivariateNormal(semi_model.model)\n",
    "\n",
    "        # Optimizer\n",
    "        optimizer = pyro.optim.Adam(adam_params)\n",
    "        loss = Trace_ELBO()\n",
    "        svi = SVI(semi_model.model, semi_model_guide, optimizer, loss)\n",
    "\n",
    "        # do gradient steps\n",
    "        losses = []\n",
    "        for _ in range(20000):\n",
    "            losses.append(svi.step())\n",
    "\n",
    "        semi_model_predict = pyro.infer.Predictive(semi_model, guide=semi_model_guide, \n",
    "                                                   num_samples=1, return_sites=('y', 'EI'))\n",
    "\n",
    "        x_points = np.zeros([sbo_steps, 2], np.float32)\n",
    "\n",
    "        for j in range(sbo_steps):\n",
    "            x_new = next_x(semi_model_predict, constr, \n",
    "                           num_candidates=num_candidates, num_steps=adam_num_steps, num_samples=num_samples)\n",
    "\n",
    "            x_points[j] = x_new.detach().numpy()\n",
    "\n",
    "            closest_point, closest_dist = find_best_solution([x_points[j]], branin_hoo_lms_np)\n",
    "            print(\"  SBO STEP: \", j+1, \"x_new:\", x_points[j], \" distance: \", closest_dist)\n",
    "\n",
    "            semi_model_guide = update_posterior(semi_model, branin_hoo, x_new, \n",
    "                             num_steps=1000, adam_params=adam_params)\n",
    "\n",
    "            semi_model_predict = pyro.infer.Predictive(semi_model, guide=semi_model_guide, \n",
    "                                                         num_samples=num_samples, return_sites=('EI',))\n",
    "\n",
    "        # saving results for the run\n",
    "        np.savetxt(\"pyro_results/pyro_sbo_%d.out\" % (test_i), x_points, delimiter=',')\n",
    "\n",
    "        closest_point, closest_dist = find_best_solution(x_points, branin_hoo_lms_np)\n",
    "        print(\"  Best candidate: \", closest_point, \" distance: \", closest_dist)\n",
    "\n",
    "        sbo_tests_search_points.append(x_points)\n",
    "    except:\n",
    "        continue"
   ]
  },
  {
   "cell_type": "code",
   "execution_count": null,
   "metadata": {},
   "outputs": [],
   "source": []
  }
 ],
 "metadata": {
  "kernelspec": {
   "display_name": "Python 3",
   "language": "python",
   "name": "python3"
  },
  "language_info": {
   "codemirror_mode": {
    "name": "ipython",
    "version": 3
   },
   "file_extension": ".py",
   "mimetype": "text/x-python",
   "name": "python",
   "nbconvert_exporter": "python",
   "pygments_lexer": "ipython3",
   "version": "3.7.4"
  }
 },
 "nbformat": 4,
 "nbformat_minor": 2
}
