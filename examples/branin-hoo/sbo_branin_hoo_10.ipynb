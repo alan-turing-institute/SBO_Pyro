{
 "cells": [
  {
   "cell_type": "markdown",
   "metadata": {},
   "source": [
    "## Performing 10 tests on Branin-Hoo function\n"
   ]
  },
  {
   "cell_type": "code",
   "execution_count": null,
   "metadata": {},
   "outputs": [],
   "source": [
    "reset -s -f"
   ]
  },
  {
   "cell_type": "code",
   "execution_count": null,
   "metadata": {},
   "outputs": [],
   "source": [
    "import sys\n",
    "import matplotlib.pyplot as plt\n",
    "import numpy as np\n",
    "\n",
    "import pickle\n",
    "\n",
    "import torch\n",
    "\n",
    "import pyro\n",
    "import pyro.contrib.gp as gp\n",
    "import pyro.distributions as dist\n",
    "from pyro.nn import PyroSample, PyroModule\n",
    "from pyro.infer import Trace_ELBO\n",
    "\n",
    "sys.path.append(\"../../sbo\")\n",
    "\n",
    "import sbo\n",
    "import utilities"
   ]
  },
  {
   "cell_type": "markdown",
   "metadata": {},
   "source": [
    "## Target function"
   ]
  },
  {
   "cell_type": "code",
   "execution_count": null,
   "metadata": {},
   "outputs": [],
   "source": [
    "class BraninHooTarget(sbo.TargetFunction):\n",
    "    \n",
    "    def eval(self, x):\n",
    "        \n",
    "        \"\"\" Compute Branin-Hoo function for fixed constants \"\"\"\n",
    "        a = 1.0\n",
    "        b = 5.1 / (4 * np.pi**2)\n",
    "        c = 5.0 / np.pi\n",
    "        r = 6.0\n",
    "        s = 10.0\n",
    "        t = 1.0 / (8 * np.pi)\n",
    "        x1 = x[...,0]\n",
    "        x2 = x[...,1]\n",
    "        \n",
    "        return a * (x2 - b*x1**2 + c*x1 - r)**2 + s*(1 - t)*torch.cos(x1) + s\n",
    "\n",
    "target = BraninHooTarget([[-5, 10], [0, 15]])"
   ]
  },
  {
   "cell_type": "code",
   "execution_count": null,
   "metadata": {},
   "outputs": [],
   "source": [
    "utilities.plot2d_func(target.eval, target.ranges)"
   ]
  },
  {
   "cell_type": "markdown",
   "metadata": {},
   "source": [
    "## Parametric model"
   ]
  },
  {
   "cell_type": "code",
   "execution_count": null,
   "metadata": {},
   "outputs": [],
   "source": [
    "class ParametricMeanFn(PyroModule):\n",
    "    \n",
    "    def __init__(self):\n",
    "        super().__init__()\n",
    "        \n",
    "        self.alpha = PyroSample(dist.Uniform(0, 20))\n",
    "        self.beta = PyroSample(dist.Uniform(0, 20))\n",
    "        self.gamma = PyroSample(dist.Uniform(0, 20))\n",
    "        \n",
    "    def forward(self, X):\n",
    "\n",
    "        x1 = X[...,0]\n",
    "        x2 = X[...,1]\n",
    "        return self.alpha*torch.cos(x1) + self.beta*torch.pow(x1, 4) + torch.pow(x2, 2) + self.gamma"
   ]
  },
  {
   "cell_type": "markdown",
   "metadata": {},
   "source": [
    "## Parameters"
   ]
  },
  {
   "cell_type": "code",
   "execution_count": null,
   "metadata": {},
   "outputs": [],
   "source": [
    "num_simulations = 20\n",
    "\n",
    "bo_steps = 20 + 1\n",
    "\n",
    "opti_num_steps = 1000\n",
    "opti_params = {\"lr\": 0.1}\n",
    "optimizer = pyro.optim.Adam(opti_params)\n",
    "loss = Trace_ELBO()\n",
    "jitter = 1e-04\n",
    "noise = 0.1*torch.ones(len(target.ranges))\n",
    "\n",
    "return_site = \"EI\"\n",
    "\n",
    "# Acquisition function optimizer\n",
    "acqf_optimizer = torch.optim.Adam\n",
    "acqf_opti_num_steps = 100\n",
    "acqf_opti_lr = 0.1\n",
    "\n",
    "num_candidates = 10\n",
    "\n",
    "# Sampling\n",
    "num_samples = 5\n",
    "\n",
    "# Initial random points\n",
    "N_train_points = 1"
   ]
  },
  {
   "cell_type": "markdown",
   "metadata": {},
   "source": [
    "## SBO simulations"
   ]
  },
  {
   "cell_type": "code",
   "execution_count": null,
   "metadata": {},
   "outputs": [],
   "source": [
    "results = None\n",
    "\n",
    "for sim_i in range(num_simulations):\n",
    "    \n",
    "    try:\n",
    "        print(\"Sim {} start\".format(sim_i))\n",
    "        pyro.clear_param_store()\n",
    "\n",
    "        # Random training points\n",
    "        # X_train = torch.rand(N_train_points, 2)*15 + torch.FloatTensor([target.ranges[0][0], target.ranges[1][0]])\n",
    "\n",
    "        # Middle training point\n",
    "        X_train = torch.FloatTensor([[(target.ranges[0][1] + target.ranges[0][0])/2.0, \n",
    "                                      (target.ranges[1][1] + target.ranges[1][0])/2.0]])\n",
    "\n",
    "        y_train = target.eval(X_train)\n",
    "\n",
    "        # GP kernel\n",
    "        kernel = gp.kernels.Matern52(\n",
    "            input_dim = X_train.shape[1], lengthscale = 100*torch.ones(X_train.shape[1]))\n",
    "\n",
    "        # Semi paramteric GP model\n",
    "        model = sbo.SemiParametricModel(X_train, y_train, ParametricMeanFn(), \n",
    "                                        kernel, noise=noise, jitter=jitter)\n",
    "\n",
    "        # Defining GP's parameters\n",
    "        model.gp.kernel.lengthscale = PyroSample(dist.Uniform(0, 5).expand([X_train.shape[1]]).to_event())\n",
    "        model.gp.kernel.variance = PyroSample(dist.Uniform(0, 10))\n",
    "        model.gp.noise = PyroSample(dist.Uniform(0, 1))\n",
    "\n",
    "        guide = None\n",
    "        xmins = np.zeros([bo_steps, 2], np.float32)\n",
    "\n",
    "        for i in range(bo_steps):\n",
    "            guide, predict, losses = sbo.step(model, guide, optimizer, loss, target, acqf_optimizer, \n",
    "                                              opti_num_steps=opti_num_steps, acqf_opti_num_steps=acqf_opti_num_steps,\n",
    "                                              acqf_opti_lr=acqf_opti_lr, num_samples=num_samples, \n",
    "                                              num_candidates=num_candidates,\n",
    "                                              return_site=return_site)\n",
    "\n",
    "        if sim_i == 0:\n",
    "            results = np.hstack((model.X.numpy(), model.y.unsqueeze(dim=1).numpy()))\n",
    "        else:\n",
    "            results = np.dstack((results, \n",
    "                                 np.hstack((model.X.numpy(), model.y.unsqueeze(dim=1).numpy()))))\n",
    "    except:\n",
    "        sim_i -= 1"
   ]
  },
  {
   "cell_type": "markdown",
   "metadata": {},
   "source": [
    "Pickling the results"
   ]
  },
  {
   "cell_type": "code",
   "execution_count": null,
   "metadata": {},
   "outputs": [],
   "source": [
    "output = open('sbo_10_results_new.pkl', 'wb')\n",
    "pickle.dump(results, output)\n",
    "output.close()"
   ]
  }
 ],
 "metadata": {
  "kernelspec": {
   "display_name": "Python 3",
   "language": "python",
   "name": "python3"
  },
  "language_info": {
   "codemirror_mode": {
    "name": "ipython",
    "version": 3
   },
   "file_extension": ".py",
   "mimetype": "text/x-python",
   "name": "python",
   "nbconvert_exporter": "python",
   "pygments_lexer": "ipython3",
   "version": "3.7.4"
  }
 },
 "nbformat": 4,
 "nbformat_minor": 2
}
