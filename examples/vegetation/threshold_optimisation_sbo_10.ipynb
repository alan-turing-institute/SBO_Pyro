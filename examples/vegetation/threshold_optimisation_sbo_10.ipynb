{
 "cells": [
  {
   "cell_type": "markdown",
   "metadata": {},
   "source": [
    "### Executing for the first time\n",
    "\n",
    "- 1. Update git submodules \n",
    "```\n",
    "git submodule update --init --recursive\n",
    "```\n",
    "- 2. Install necessary python packages with `pip`\n",
    "```\n",
    "cd monitoring-ecosystem-resilience\n",
    "pip install .\n",
    "```\n",
    "\n",
    "- 3. `earthengine authenticat`"
   ]
  },
  {
   "cell_type": "code",
   "execution_count": 1,
   "metadata": {},
   "outputs": [],
   "source": [
    "import sys\n",
    "import os\n",
    "sys.path.append(\"../../sbo\")\n",
    "sys.path.append(\"monitoring-ecosystem-resilience\")\n",
    "\n",
    "import sys\n",
    "import matplotlib.pyplot as plt\n",
    "import numpy as np\n",
    "\n",
    "import torch\n",
    "\n",
    "import pyro\n",
    "import pyro.contrib.gp as gp\n",
    "import pyro.distributions as dist\n",
    "from pyro.nn import PyroSample, PyroModule\n",
    "from pyro.infer import Trace_ELBO\n",
    "\n",
    "import pickle\n",
    "\n",
    "# Import SBO\n",
    "import sbo\n",
    "import utilities\n",
    "\n",
    "# Import pyveg\n",
    "from pyveg.scripts.optimize_gee_threshold import optimize_threshold\n",
    "\n",
    "CONST_STDOUT = sys.stdout"
   ]
  },
  {
   "cell_type": "markdown",
   "metadata": {},
   "source": [
    "## Helper functions"
   ]
  },
  {
   "cell_type": "code",
   "execution_count": 2,
   "metadata": {},
   "outputs": [],
   "source": [
    "# Disable\n",
    "def blockPrint():\n",
    "    sys.stdout = open(os.devnull, 'w')\n",
    "\n",
    "# Restore\n",
    "def enablePrint():\n",
    "    sys.stdout = CONST_STDOUT"
   ]
  },
  {
   "cell_type": "markdown",
   "metadata": {},
   "source": [
    "## Target function"
   ]
  },
  {
   "cell_type": "code",
   "execution_count": 3,
   "metadata": {},
   "outputs": [],
   "source": [
    "class ThresholdTarget(sbo.TargetFunction):\n",
    "    \n",
    "    def eval(self, x):\n",
    "                \n",
    "        results = []\n",
    "        \n",
    "        no_x = x.shape[0]\n",
    "                \n",
    "        for x_i in range(no_x):\n",
    "\n",
    "            x_int = int(x[x_i].detach().numpy())\n",
    "            \n",
    "            blockPrint()\n",
    "            \n",
    "            result_x = optimize_threshold(x_int)\n",
    "            \n",
    "            enablePrint()\n",
    "            \n",
    "            results.append(result_x)\n",
    "        \n",
    "        return -torch.FloatTensor(results)\n",
    "\n",
    "target = ThresholdTarget([[0, 765]])"
   ]
  },
  {
   "cell_type": "markdown",
   "metadata": {},
   "source": [
    "## Parametric model"
   ]
  },
  {
   "cell_type": "code",
   "execution_count": 4,
   "metadata": {},
   "outputs": [],
   "source": [
    "class ParametricMeanFn(PyroModule):\n",
    "    \n",
    "    def __init__(self):\n",
    "        super().__init__()\n",
    "        \n",
    "        self.beta = PyroSample(dist.Uniform(-100, 100))\n",
    "        \n",
    "    def forward(self, X):\n",
    "        \n",
    "        middle = 383.0\n",
    "        X_adjusted = X - middle\n",
    "        \n",
    "        result = torch.pow(X_adjusted + self.beta, 2) / middle**2 - 1\n",
    "              \n",
    "        return result.squeeze()"
   ]
  },
  {
   "cell_type": "markdown",
   "metadata": {},
   "source": [
    "## Parameters"
   ]
  },
  {
   "cell_type": "code",
   "execution_count": 5,
   "metadata": {},
   "outputs": [],
   "source": [
    "num_simulations = 10\n",
    "\n",
    "bo_steps = 10 + 1\n",
    "\n",
    "opti_num_steps = 100\n",
    "opti_params = {\"lr\": 0.1}\n",
    "optimizer = pyro.optim.Adam(opti_params)\n",
    "loss = Trace_ELBO()\n",
    "\n",
    "return_site = \"EI\"\n",
    "\n",
    "# Acquisition function optimizer\n",
    "acqf_optimizer = torch.optim.Adam\n",
    "acqf_opti_num_steps = 100\n",
    "acqf_opti_lr = 0.5\n",
    "\n",
    "num_candidates = 10\n",
    "\n",
    "# Sampling\n",
    "num_samples = 5\n",
    "\n",
    "# Initial random points\n",
    "N_train_points = 1"
   ]
  },
  {
   "cell_type": "markdown",
   "metadata": {},
   "source": [
    "## SBO simulations"
   ]
  },
  {
   "cell_type": "code",
   "execution_count": 6,
   "metadata": {},
   "outputs": [
    {
     "name": "stdout",
     "output_type": "stream",
     "text": [
      "Sim 0 start\n",
      "Sim 0 Step tensor([68.1389]) Value = -0.0\n",
      "Sim 1 start\n",
      "Sim 1 Step tensor([486.6864]) Value = -1.0\n",
      "Sim 2 start\n",
      "Sim 2 Step tensor([366.1184]) Value = -0.006198347080498934\n",
      "Sim 3 start\n",
      "Sim 3 Step tensor([201.8707]) Value = -0.9979338645935059\n",
      "Sim 4 start\n",
      "Sim 4 Step tensor([214.3685]) Value = -1.0\n",
      "Sim 5 start\n",
      "Sim 5 Step tensor([489.7957]) Value = -1.0\n",
      "Sim 6 start\n",
      "Sim 6 Step tensor([472.3361]) Value = -1.0\n",
      "Sim 7 start\n",
      "Sim 7 Step tensor([471.4828]) Value = -1.0\n",
      "Sim 8 start\n",
      "Sim 8 Step tensor([630.2010]) Value = -0.00206611561588943\n",
      "Sim 9 start\n",
      "Sim 9 Step tensor([717.7497]) Value = -0.0\n"
     ]
    }
   ],
   "source": [
    "results = None\n",
    "\n",
    "for sim_i in range(num_simulations):\n",
    "    \n",
    "    try:\n",
    "        print(\"Sim {} start\".format(sim_i))\n",
    "        \n",
    "        X_train = torch.rand(N_train_points, 1)*765\n",
    "        y_train = target.eval(X_train)\n",
    "\n",
    "        pyro.clear_param_store()\n",
    "\n",
    "        # GP kernel\n",
    "        kernel = gp.kernels.Matern52(\n",
    "            input_dim = X_train.shape[1], lengthscale = 100*torch.ones(X_train.shape[1]))\n",
    "\n",
    "        # Semi paramteric GP model\n",
    "        model = sbo.SemiParametricModel(X_train, y_train, ParametricMeanFn(), kernel)\n",
    "\n",
    "        # Defining GP's parameters\n",
    "        model.gp.kernel.lengthscale = PyroSample(dist.Uniform(0, 100).expand([X_train.shape[1]]).to_event())\n",
    "        model.gp.kernel.variance = PyroSample(dist.Uniform(0, 50))\n",
    "        model.gp.noise = PyroSample(dist.Uniform(0, 1))\n",
    "\n",
    "        guide = None\n",
    "        xmins = np.zeros([bo_steps, 2], np.float32)\n",
    "\n",
    "        for i in range(bo_steps):\n",
    "\n",
    "            guide, predict, losses = sbo.step(model, guide, optimizer, loss, target, acqf_optimizer, \n",
    "                                              opti_num_steps=opti_num_steps, acqf_opti_num_steps=acqf_opti_num_steps,\n",
    "                                              acqf_opti_lr=acqf_opti_lr, num_samples=num_samples, \n",
    "                                              num_candidates=num_candidates,\n",
    "                                              return_site=return_site)\n",
    "\n",
    "        print(\"Sim {} Step {} Value = {}\".format(sim_i, model.X[-1], model.y[-1]))\n",
    "\n",
    "        if sim_i == 0:\n",
    "            results = np.vstack((model.X.squeeze().numpy(), model.y.numpy())).transpose()\n",
    "        else:\n",
    "            results = np.dstack((results, \n",
    "                                 np.vstack((model.X.squeeze().numpy(), model.y.numpy())).transpose()))\n",
    "    except:\n",
    "        sim_i -= 1"
   ]
  },
  {
   "cell_type": "markdown",
   "metadata": {},
   "source": [
    "Pickling the results"
   ]
  },
  {
   "cell_type": "code",
   "execution_count": 7,
   "metadata": {},
   "outputs": [],
   "source": [
    "output = open('sbo_10_results.pkl', 'wb')\n",
    "pickle.dump(results, output)\n",
    "output.close()"
   ]
  }
 ],
 "metadata": {
  "kernelspec": {
   "display_name": "Python 3",
   "language": "python",
   "name": "python3"
  },
  "language_info": {
   "codemirror_mode": {
    "name": "ipython",
    "version": 3
   },
   "file_extension": ".py",
   "mimetype": "text/x-python",
   "name": "python",
   "nbconvert_exporter": "python",
   "pygments_lexer": "ipython3",
   "version": "3.7.4"
  }
 },
 "nbformat": 4,
 "nbformat_minor": 2
}
