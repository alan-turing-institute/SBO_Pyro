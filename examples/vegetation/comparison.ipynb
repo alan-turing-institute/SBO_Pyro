{
 "cells": [
  {
   "cell_type": "code",
   "execution_count": 1,
   "metadata": {},
   "outputs": [],
   "source": [
    "import pickle\n",
    "import numpy as np\n",
    "import matplotlib.pyplot as plt"
   ]
  },
  {
   "cell_type": "markdown",
   "metadata": {},
   "source": [
    "## Analysis"
   ]
  },
  {
   "cell_type": "code",
   "execution_count": 2,
   "metadata": {},
   "outputs": [],
   "source": [
    "def best_so_far_analysis(results):\n",
    "    \n",
    "    # Looking for best so far result for each simulation separately\n",
    "    best_so_far = np.zeros([results.shape[0], results.shape[2]])\n",
    "\n",
    "\n",
    "    for sim_i in range(results.shape[2]):\n",
    "        result = results[:, :, sim_i]\n",
    "\n",
    "        for step_i in range(results.shape[0]):\n",
    "            if step_i == 0: best_so_far[step_i, sim_i] = results[step_i, 1, sim_i]\n",
    "            else:\n",
    "                if results[step_i, 1, sim_i] < best_so_far[step_i-1, sim_i]: \n",
    "                    best_so_far[step_i, sim_i] = results[step_i, 1, sim_i]\n",
    "                else:\n",
    "                    best_so_far[step_i, sim_i] = best_so_far[step_i-1, sim_i]\n",
    "    \n",
    "    # Best so far statistics for each step\n",
    "    best_so_far_stats = np.zeros([results.shape[0], 4])\n",
    "\n",
    "    for step_i in range(results.shape[0]):\n",
    "        best_so_far_stats[step_i, 0] = step_i\n",
    "        best_so_far_stats[step_i, 1] = np.average(best_so_far[step_i])\n",
    "        best_so_far_stats[step_i, 2] = np.std(best_so_far[step_i])\n",
    "        best_so_far_stats[step_i, 3] = np.min(best_so_far[step_i])\n",
    "    \n",
    "    return best_so_far_stats"
   ]
  },
  {
   "cell_type": "markdown",
   "metadata": {},
   "source": [
    "## Reading and analysing BO results"
   ]
  },
  {
   "cell_type": "code",
   "execution_count": 3,
   "metadata": {},
   "outputs": [],
   "source": [
    "pkl_file = open('bo_10_results.pkl', 'rb')\n",
    "results_bo = pickle.load(pkl_file)\n",
    "pkl_file.close()\n",
    "\n",
    "best_bo_stats = best_so_far_analysis(results_bo)"
   ]
  },
  {
   "cell_type": "markdown",
   "metadata": {},
   "source": [
    "## Reading and analysing SBO results"
   ]
  },
  {
   "cell_type": "code",
   "execution_count": 4,
   "metadata": {},
   "outputs": [],
   "source": [
    "pkl_file = open('sbo_10_results.pkl', 'rb')\n",
    "results_sbo = pickle.load(pkl_file)\n",
    "pkl_file.close()\n",
    "\n",
    "best_sbo_stats = best_so_far_analysis(results_sbo)"
   ]
  },
  {
   "cell_type": "markdown",
   "metadata": {},
   "source": [
    "## Plotting"
   ]
  },
  {
   "cell_type": "code",
   "execution_count": 11,
   "metadata": {},
   "outputs": [
    {
     "data": {
      "image/png": "[encoded data removed]",
      "text/plain": [
       "<Figure size 432x288 with 1 Axes>"
      ]
     },
     "metadata": {
      "needs_background": "light"
     },
     "output_type": "display_data"
    }
   ],
   "source": [
    "x = np.arange(max(len(best_bo_stats[:, 0]), len(best_sbo_stats[:, 0]))) + 1\n",
    "\n",
    "plt.errorbar(x, best_bo_stats[:, 1], best_bo_stats[:, 2], marker='x', \n",
    "             color=\"blue\", label=\"BO\", uplims=True, lolims=True)\n",
    "\n",
    "plt.scatter(x, best_bo_stats[:, 3], color=\"blue\", label=\"BO min\")\n",
    "\n",
    "plt.errorbar(x, best_sbo_stats[:, 1], best_sbo_stats[:, 2], marker='x',\n",
    "             color=\"green\", label=\"SBO\", uplims=True, lolims=True)\n",
    "\n",
    "plt.scatter(x, best_sbo_stats[:, 3], color=\"green\", label=\"SBO min\")\n",
    "\n",
    "plt.xticks(x)\n",
    "plt.xlabel('Step')\n",
    "plt.ylabel('$f$')\n",
    "plt.tight_layout()\n",
    "plt.legend();\n",
    "\n",
    "plt.savefig('SBO_BO_compr.png', dpi=300)"
   ]
  }
 ],
 "metadata": {
  "kernelspec": {
   "display_name": "Python 3",
   "language": "python",
   "name": "python3"
  },
  "language_info": {
   "codemirror_mode": {
    "name": "ipython",
    "version": 3
   },
   "file_extension": ".py",
   "mimetype": "text/x-python",
   "name": "python",
   "nbconvert_exporter": "python",
   "pygments_lexer": "ipython3",
   "version": "3.7.4"
  }
 },
 "nbformat": 4,
 "nbformat_minor": 2
}
