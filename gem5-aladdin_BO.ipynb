{
 "cells": [
  {
   "cell_type": "code",
   "execution_count": 1,
   "metadata": {},
   "outputs": [],
   "source": [
    "import copy\n",
    "import pandas as pd\n",
    "import numpy as np\n",
    "\n",
    "import matplotlib.pyplot as plt\n",
    "\n",
    "import torch\n",
    "\n",
    "import pyro\n",
    "import pyro.contrib.gp as gp\n",
    "import pyro.distributions as dist\n",
    "\n",
    "pyro.enable_validation(True)"
   ]
  },
  {
   "cell_type": "code",
   "execution_count": 2,
   "metadata": {},
   "outputs": [
    {
     "name": "stdout",
     "output_type": "stream",
     "text": [
      "torch: 1.3.0.post2\n",
      "pyro: 1.0.0\n"
     ]
    }
   ],
   "source": [
    "print(\"torch:\", torch.__version__)\n",
    "print(\"pyro:\", pyro.__version__)\n",
    "\n",
    "if not pyro.__version__.startswith(\"1\"):\n",
    "    raise ValueError(\"incompatible version of pyro\")"
   ]
  },
  {
   "cell_type": "code",
   "execution_count": 3,
   "metadata": {},
   "outputs": [],
   "source": [
    "seed_number = 444\n",
    "\n",
    "def set_random_seed(seed):\n",
    "    np.random.seed(seed)\n",
    "    torch.manual_seed(seed)\n",
    "    if torch.cuda.is_available():\n",
    "        torch.cuda.manual_seed_all(seed)\n",
    "    \n",
    "set_random_seed(seed_number)"
   ]
  },
  {
   "cell_type": "markdown",
   "metadata": {},
   "source": [
    "### Importing the grid search results from the simulator"
   ]
  },
  {
   "cell_type": "code",
   "execution_count": 4,
   "metadata": {},
   "outputs": [],
   "source": [
    "file_path = \"gem5-aladdin_data/stencil_stencil3d_results.csv\"\n",
    "results_df = pd.read_csv(file_path, delimiter=\",\").drop_duplicates()"
   ]
  },
  {
   "cell_type": "markdown",
   "metadata": {},
   "source": [
    "### These are the \"regression\" analysis results"
   ]
  },
  {
   "cell_type": "markdown",
   "metadata": {},
   "source": [
    "![](gem5-aladdin_data/Regression_analysis.png)"
   ]
  },
  {
   "cell_type": "markdown",
   "metadata": {},
   "source": [
    "I chose `stencil_stencil3d` as the test case (workload) - it mainly depends on `cache_size` and `pipelining`.\n",
    "It is easier to work with a low dimensional space at the beginning. "
   ]
  },
  {
   "cell_type": "code",
   "execution_count": 5,
   "metadata": {},
   "outputs": [
    {
     "data": {
      "text/plain": [
       "Index(['tlb_page_size', 'tlb_entries', 'tlb_assoc', 'cycle_time',\n",
       "       'tlb_max_outstanding_walks', 'tlb_miss_latency', 'cache_line_sz',\n",
       "       'cache_assoc', 'cache_queue_size', 'tlb_hit_latency', 'pipelined_dma',\n",
       "       'cache_size', 'pipelining', 'cache_hit_latency', 'cache_bandwidth',\n",
       "       'tlb_bandwidth', 'success', 'cycle', 'power', 'area'],\n",
       "      dtype='object')"
      ]
     },
     "execution_count": 5,
     "metadata": {},
     "output_type": "execute_result"
    }
   ],
   "source": [
    "results_df.columns"
   ]
  },
  {
   "cell_type": "code",
   "execution_count": 6,
   "metadata": {},
   "outputs": [],
   "source": [
    "results_small = results_df[['cache_size', 'pipelining', 'cycle', 'power', 'area']]\n",
    "X_train = torch.tensor(results_small[['cache_size', 'pipelining']].values.astype(np.float32))\n",
    "Y_train = torch.tensor(results_small['cycle'].values.astype(np.float32))"
   ]
  },
  {
   "cell_type": "markdown",
   "metadata": {},
   "source": [
    "# Deterministic GP model\n",
    "\n",
    "Trying to fit a deterministic continuous gp model on `cache_size` and `pipelining` to predict `cycle`."
   ]
  },
  {
   "cell_type": "code",
   "execution_count": 7,
   "metadata": {},
   "outputs": [],
   "source": [
    "pyro.clear_param_store()\n",
    "gp_model = gp.models.GPRegression(X_train, Y_train, \n",
    "                                 gp.kernels.Matern52(input_dim=2, \n",
    "                                                     lengthscale=torch.tensor([100000, 1]),\n",
    "                                                     variance=torch.tensor(50)), \n",
    "                                 noise=torch.tensor(0.1), \n",
    "                                 jitter=1.0e-4)"
   ]
  },
  {
   "cell_type": "code",
   "execution_count": 8,
   "metadata": {},
   "outputs": [],
   "source": [
    "optimizer = torch.optim.Adam(gp_model.parameters(), lr=0.001)\n",
    "losses = gp.util.train(gp_model, optimizer, num_steps=1000);"
   ]
  },
  {
   "cell_type": "code",
   "execution_count": 9,
   "metadata": {},
   "outputs": [
    {
     "data": {
      "text/plain": [
       "[<matplotlib.lines.Line2D at 0x1025ce790>]"
      ]
     },
     "execution_count": 9,
     "metadata": {},
     "output_type": "execute_result"
    },
    {
     "data": {
      "image/png": "[encoded data removed]",
      "text/plain": [
       "<Figure size 432x288 with 1 Axes>"
      ]
     },
     "metadata": {
      "needs_background": "light"
     },
     "output_type": "display_data"
    }
   ],
   "source": [
    "plt.plot(losses)"
   ]
  },
  {
   "cell_type": "code",
   "execution_count": 10,
   "metadata": {},
   "outputs": [
    {
     "data": {
      "text/plain": [
       "[('kernel.lengthscale',\n",
       "  tensor([7.5662e+04, 6.7314e-01], grad_fn=<AddBackward0>)),\n",
       " ('kernel.variance', tensor(51.2958, grad_fn=<AddBackward0>)),\n",
       " ('noise', tensor(0.2282, grad_fn=<AddBackward0>))]"
      ]
     },
     "execution_count": 10,
     "metadata": {},
     "output_type": "execute_result"
    }
   ],
   "source": [
    "sorted(list(gp_model.named_pyro_params()))"
   ]
  },
  {
   "cell_type": "code",
   "execution_count": 11,
   "metadata": {},
   "outputs": [],
   "source": [
    "def plot_function(f, x1_min, x1_max, x2_min, x2_max, n_points=100, strides=200):\n",
    "    \n",
    "    X1 = torch.linspace(x1_min, x1_max, n_points)\n",
    "    X2 = torch.linspace(x2_min, x2_max, n_points)\n",
    "\n",
    "    X1_mesh, X2_mesh = torch.meshgrid(X1, X2)\n",
    "    \n",
    "    Z_mesh = f(torch.stack((X1_mesh.flatten(), X2_mesh.flatten()), dim=1)).reshape(n_points,n_points)\n",
    "    \n",
    "    plt.contourf(X1_mesh, X2_mesh, Z_mesh, strides)\n",
    "    plt.set_cmap('jet')\n",
    "    plt.colorbar()"
   ]
  },
  {
   "cell_type": "code",
   "execution_count": 12,
   "metadata": {},
   "outputs": [
    {
     "data": {
      "image/png": "[encoded data removed]",
      "text/plain": [
       "<Figure size 432x288 with 4 Axes>"
      ]
     },
     "metadata": {
      "needs_background": "light"
     },
     "output_type": "display_data"
    }
   ],
   "source": [
    "const_x1_min = X_train[:, 0].min()\n",
    "const_x1_max = X_train[:, 0].max()\n",
    "const_x2_min = X_train[:, 1].min()\n",
    "const_x2_max = X_train[:, 1].max()\n",
    "\n",
    "with torch.no_grad(), gp_model._pyro_context:\n",
    "    plt.subplot(1,2,1)\n",
    "    plt.title(\"GP mean\")\n",
    "    f = lambda x: gp_model(x)[0]\n",
    "    plot_function(f, const_x1_min, const_x1_max, const_x2_min, const_x2_max)\n",
    "\n",
    "    plt.subplot(1,2,2)\n",
    "    plt.title(\"GP variance\")\n",
    "    f = lambda x: gp_model(x)[1]\n",
    "    plot_function(f, const_x1_min, const_x1_max, const_x2_min, const_x2_max)"
   ]
  },
  {
   "cell_type": "markdown",
   "metadata": {},
   "source": [
    "`x`, `y` axes are `cache_size` and `pipelining` respectively. The message is quite clear - in order to maximise `cycle` we need to turn off pipelining and do not use too much of cache."
   ]
  },
  {
   "cell_type": "markdown",
   "metadata": {},
   "source": [
    "# Stochastic GP model using one hot categorical distribution"
   ]
  },
  {
   "cell_type": "markdown",
   "metadata": {},
   "source": [
    "### Preping the data"
   ]
  },
  {
   "cell_type": "code",
   "execution_count": 13,
   "metadata": {},
   "outputs": [
    {
     "data": {
      "text/html": [
       "<div>\n",
       "<style scoped>\n",
       "    .dataframe tbody tr th:only-of-type {\n",
       "        vertical-align: middle;\n",
       "    }\n",
       "\n",
       "    .dataframe tbody tr th {\n",
       "        vertical-align: top;\n",
       "    }\n",
       "\n",
       "    .dataframe thead th {\n",
       "        text-align: right;\n",
       "    }\n",
       "</style>\n",
       "<table border=\"1\" class=\"dataframe\">\n",
       "  <thead>\n",
       "    <tr style=\"text-align: right;\">\n",
       "      <th></th>\n",
       "      <th>cache_size</th>\n",
       "      <th>pipelining</th>\n",
       "      <th>cycle</th>\n",
       "      <th>power</th>\n",
       "      <th>area</th>\n",
       "    </tr>\n",
       "  </thead>\n",
       "  <tbody>\n",
       "    <tr>\n",
       "      <th>0</th>\n",
       "      <td>16384</td>\n",
       "      <td>0</td>\n",
       "      <td>329286</td>\n",
       "      <td>9.81282</td>\n",
       "      <td>73430.2</td>\n",
       "    </tr>\n",
       "    <tr>\n",
       "      <th>1</th>\n",
       "      <td>131072</td>\n",
       "      <td>1</td>\n",
       "      <td>51707</td>\n",
       "      <td>30.10500</td>\n",
       "      <td>469466.0</td>\n",
       "    </tr>\n",
       "    <tr>\n",
       "      <th>2</th>\n",
       "      <td>32768</td>\n",
       "      <td>1</td>\n",
       "      <td>87354</td>\n",
       "      <td>10.94530</td>\n",
       "      <td>245934.0</td>\n",
       "    </tr>\n",
       "    <tr>\n",
       "      <th>3</th>\n",
       "      <td>65536</td>\n",
       "      <td>0</td>\n",
       "      <td>390671</td>\n",
       "      <td>10.36130</td>\n",
       "      <td>525467.0</td>\n",
       "    </tr>\n",
       "    <tr>\n",
       "      <th>4</th>\n",
       "      <td>131072</td>\n",
       "      <td>0</td>\n",
       "      <td>298629</td>\n",
       "      <td>11.46500</td>\n",
       "      <td>459916.0</td>\n",
       "    </tr>\n",
       "  </tbody>\n",
       "</table>\n",
       "</div>"
      ],
      "text/plain": [
       "   cache_size  pipelining   cycle     power      area\n",
       "0       16384           0  329286   9.81282   73430.2\n",
       "1      131072           1   51707  30.10500  469466.0\n",
       "2       32768           1   87354  10.94530  245934.0\n",
       "3       65536           0  390671  10.36130  525467.0\n",
       "4      131072           0  298629  11.46500  459916.0"
      ]
     },
     "execution_count": 13,
     "metadata": {},
     "output_type": "execute_result"
    }
   ],
   "source": [
    "train_df = copy.deepcopy(results_small)\n",
    "train_df.head(n=5)"
   ]
  },
  {
   "cell_type": "code",
   "execution_count": 14,
   "metadata": {},
   "outputs": [],
   "source": [
    "# Dealing with pipelining as one hot\n",
    "train_df.loc[train_df.pipelining == 0, \"pipelining_0\"] = 1\n",
    "train_df.loc[train_df.pipelining == 1, \"pipelining_0\"] = 0\n",
    "\n",
    "train_df.loc[train_df.pipelining == 0, \"pipelining_1\"] = 0\n",
    "train_df.loc[train_df.pipelining == 1, \"pipelining_1\"] = 1\n",
    "\n",
    "# Dealing with cache size as one hot\n",
    "train_df[\"cache_size_16384\"] = 0\n",
    "train_df[\"cache_size_32768\"] = 0\n",
    "train_df[\"cache_size_65536\"] = 0\n",
    "train_df[\"cache_size_131072\"] = 0\n",
    "\n",
    "train_df.loc[train_df.cache_size == 16384, \"cache_size_16384\"] = 1\n",
    "train_df.loc[train_df.cache_size == 32768, \"cache_size_32768\"] = 1\n",
    "train_df.loc[train_df.cache_size == 65536, \"cache_size_65536\"] = 1\n",
    "train_df.loc[train_df.cache_size == 131072, \"cache_size_131072\"] = 1"
   ]
  },
  {
   "cell_type": "code",
   "execution_count": 15,
   "metadata": {},
   "outputs": [
    {
     "data": {
      "text/html": [
       "<div>\n",
       "<style scoped>\n",
       "    .dataframe tbody tr th:only-of-type {\n",
       "        vertical-align: middle;\n",
       "    }\n",
       "\n",
       "    .dataframe tbody tr th {\n",
       "        vertical-align: top;\n",
       "    }\n",
       "\n",
       "    .dataframe thead th {\n",
       "        text-align: right;\n",
       "    }\n",
       "</style>\n",
       "<table border=\"1\" class=\"dataframe\">\n",
       "  <thead>\n",
       "    <tr style=\"text-align: right;\">\n",
       "      <th></th>\n",
       "      <th>cache_size</th>\n",
       "      <th>pipelining</th>\n",
       "      <th>cycle</th>\n",
       "      <th>power</th>\n",
       "      <th>area</th>\n",
       "      <th>pipelining_0</th>\n",
       "      <th>pipelining_1</th>\n",
       "      <th>cache_size_16384</th>\n",
       "      <th>cache_size_32768</th>\n",
       "      <th>cache_size_65536</th>\n",
       "      <th>cache_size_131072</th>\n",
       "    </tr>\n",
       "  </thead>\n",
       "  <tbody>\n",
       "    <tr>\n",
       "      <th>0</th>\n",
       "      <td>16384</td>\n",
       "      <td>0</td>\n",
       "      <td>329286</td>\n",
       "      <td>9.81282</td>\n",
       "      <td>73430.2</td>\n",
       "      <td>1.0</td>\n",
       "      <td>0.0</td>\n",
       "      <td>1</td>\n",
       "      <td>0</td>\n",
       "      <td>0</td>\n",
       "      <td>0</td>\n",
       "    </tr>\n",
       "    <tr>\n",
       "      <th>1</th>\n",
       "      <td>131072</td>\n",
       "      <td>1</td>\n",
       "      <td>51707</td>\n",
       "      <td>30.10500</td>\n",
       "      <td>469466.0</td>\n",
       "      <td>0.0</td>\n",
       "      <td>1.0</td>\n",
       "      <td>0</td>\n",
       "      <td>0</td>\n",
       "      <td>0</td>\n",
       "      <td>1</td>\n",
       "    </tr>\n",
       "    <tr>\n",
       "      <th>2</th>\n",
       "      <td>32768</td>\n",
       "      <td>1</td>\n",
       "      <td>87354</td>\n",
       "      <td>10.94530</td>\n",
       "      <td>245934.0</td>\n",
       "      <td>0.0</td>\n",
       "      <td>1.0</td>\n",
       "      <td>0</td>\n",
       "      <td>1</td>\n",
       "      <td>0</td>\n",
       "      <td>0</td>\n",
       "    </tr>\n",
       "    <tr>\n",
       "      <th>3</th>\n",
       "      <td>65536</td>\n",
       "      <td>0</td>\n",
       "      <td>390671</td>\n",
       "      <td>10.36130</td>\n",
       "      <td>525467.0</td>\n",
       "      <td>1.0</td>\n",
       "      <td>0.0</td>\n",
       "      <td>0</td>\n",
       "      <td>0</td>\n",
       "      <td>1</td>\n",
       "      <td>0</td>\n",
       "    </tr>\n",
       "    <tr>\n",
       "      <th>4</th>\n",
       "      <td>131072</td>\n",
       "      <td>0</td>\n",
       "      <td>298629</td>\n",
       "      <td>11.46500</td>\n",
       "      <td>459916.0</td>\n",
       "      <td>1.0</td>\n",
       "      <td>0.0</td>\n",
       "      <td>0</td>\n",
       "      <td>0</td>\n",
       "      <td>0</td>\n",
       "      <td>1</td>\n",
       "    </tr>\n",
       "  </tbody>\n",
       "</table>\n",
       "</div>"
      ],
      "text/plain": [
       "   cache_size  pipelining   cycle     power      area  pipelining_0  \\\n",
       "0       16384           0  329286   9.81282   73430.2           1.0   \n",
       "1      131072           1   51707  30.10500  469466.0           0.0   \n",
       "2       32768           1   87354  10.94530  245934.0           0.0   \n",
       "3       65536           0  390671  10.36130  525467.0           1.0   \n",
       "4      131072           0  298629  11.46500  459916.0           1.0   \n",
       "\n",
       "   pipelining_1  cache_size_16384  cache_size_32768  cache_size_65536  \\\n",
       "0           0.0                 1                 0                 0   \n",
       "1           1.0                 0                 0                 0   \n",
       "2           1.0                 0                 1                 0   \n",
       "3           0.0                 0                 0                 1   \n",
       "4           0.0                 0                 0                 0   \n",
       "\n",
       "   cache_size_131072  \n",
       "0                  0  \n",
       "1                  1  \n",
       "2                  0  \n",
       "3                  0  \n",
       "4                  1  "
      ]
     },
     "execution_count": 15,
     "metadata": {},
     "output_type": "execute_result"
    }
   ],
   "source": [
    "train_df.head(n=5)"
   ]
  },
  {
   "cell_type": "markdown",
   "metadata": {},
   "source": [
    "### Training data"
   ]
  },
  {
   "cell_type": "code",
   "execution_count": 16,
   "metadata": {},
   "outputs": [],
   "source": [
    "# X_train = torch.tensor(train_df[[\"pipelining_0\", \"pipelining_1\", \n",
    "#                                  \"cache_size_16384\", \"cache_size_32768\", \n",
    "#                                  \"cache_size_65536\", \"cache_size_131072\"]].values.astype(np.float32))\n",
    "\n",
    "X_train = torch.tensor(train_df[[\"cache_size_16384\", \"cache_size_32768\", \n",
    "                                 \"cache_size_65536\", \"cache_size_131072\"]].values.astype(np.float32))\n",
    "\n",
    "Y_train = torch.tensor(results_small['power'].values.astype(np.float32))"
   ]
  },
  {
   "cell_type": "markdown",
   "metadata": {},
   "source": [
    "### Model"
   ]
  },
  {
   "cell_type": "code",
   "execution_count": 17,
   "metadata": {},
   "outputs": [],
   "source": [
    "set_random_seed(333)\n",
    "\n",
    "pyro.clear_param_store()\n",
    "gp_model_svi = gp.models.GPRegression(X_train, Y_train, gp.kernels.Matern52(input_dim=4, lengthscale=torch.ones(4)))\n",
    "\n",
    "# Set priors\n",
    "gp_model_svi.kernel.lengthscale = pyro.nn.PyroSample(\n",
    "    dist.RelaxedOneHotCategorical(torch.tensor([0.5]), \n",
    "                                  torch.tensor([0.25, 0.25, 0.25, 0.25])).to_event())"
   ]
  },
  {
   "cell_type": "markdown",
   "metadata": {},
   "source": [
    "**This gp_model_svi.kernel.lengthscale does not work. I am not sure why.**\n",
    "\n",
    "More general question, how to create a model with two independent RelaxedOneHotCategorical distributions.\n",
    "\n",
    "**Should it look something like this:**\n",
    "\n",
    "```\n",
    "gp_model_svi.kernel.lengthscale = pyro.nn.PyroSample((\n",
    "    dist.RelaxedOneHotCategorical(torch.tensor([0.5]), torch.tensor([0.25, 0.25, 0.25, 0.25])).to_event(), \n",
    "    dist.RelaxedOneHotCategorical(torch.tensor([0.5]), torch.tensor([0.5, 0.5])).to_event()\n",
    "))\n",
    "```"
   ]
  },
  {
   "cell_type": "markdown",
   "metadata": {},
   "source": [
    "I am using 4 normal distributions for lengthscale, to test how the model behaves"
   ]
  },
  {
   "cell_type": "code",
   "execution_count": 18,
   "metadata": {},
   "outputs": [],
   "source": [
    "# Set priors\n",
    "gp_model_svi.kernel.lengthscale = pyro.nn.PyroSample(dist.Normal(1, 1).expand([4]).to_event())\n",
    "gp_model_svi.kernel.variance = pyro.nn.PyroSample(dist.LogNormal(4, 1))\n",
    "gp_model_svi.noise = pyro.nn.PyroSample(dist.LogNormal(0, 1))"
   ]
  },
  {
   "cell_type": "code",
   "execution_count": 19,
   "metadata": {},
   "outputs": [
    {
     "data": {
      "text/plain": [
       "[('kernel.lengthscale_map', Parameter containing:\n",
       "  tensor([-0.1071,  0.4515,  2.4287,  2.7788], requires_grad=True)),\n",
       " ('kernel.variance_map', tensor(167.1282, grad_fn=<AddBackward0>)),\n",
       " ('noise_map', tensor(1.8136, grad_fn=<AddBackward0>))]"
      ]
     },
     "execution_count": 19,
     "metadata": {},
     "output_type": "execute_result"
    }
   ],
   "source": [
    "sorted(list(gp_model_svi.named_pyro_params()))"
   ]
  },
  {
   "cell_type": "code",
   "execution_count": 20,
   "metadata": {},
   "outputs": [
    {
     "name": "stderr",
     "output_type": "stream",
     "text": [
      "/usr/local/lib/python3.7/site-packages/pyro/infer/trace_mean_field_elbo.py:29: UserWarning: Failed to verify mean field restriction on the guide. To eliminate this warning, ensure model and guide sites occur in the same order.\n",
      "Model sites:\n",
      "  kernel.lengthscale\n",
      "  kernel.variance\n",
      "  noiseGuide sites:\n",
      "  noise\n",
      "  kernel.lengthscale\n",
      "  kernel.variance\n",
      "  \"Guide sites:\\n  \" + \"\\n  \".join(guide_sites))\n"
     ]
    }
   ],
   "source": [
    "# Set guides\n",
    "gp_model_svi.kernel.autoguide(\"lengthscale\", dist.Normal)\n",
    "gp_model_svi.kernel.autoguide(\"variance\", dist.Normal)\n",
    "gp_model_svi.autoguide(\"noise\", dist.Normal)\n",
    "\n",
    "# optimise\n",
    "optimizer = torch.optim.Adam(gp_model_svi.parameters(), lr=0.005)\n",
    "loss_fn = pyro.infer.TraceMeanField_ELBO().differentiable_loss\n",
    "losses = gp.util.train(gp_model_svi, optimizer, loss_fn, num_steps=1000)"
   ]
  },
  {
   "cell_type": "code",
   "execution_count": 21,
   "metadata": {},
   "outputs": [
    {
     "data": {
      "text/plain": [
       "[<matplotlib.lines.Line2D at 0x1208324d0>]"
      ]
     },
     "execution_count": 21,
     "metadata": {},
     "output_type": "execute_result"
    },
    {
     "data": {
      "image/png": "[encoded data removed]",
      "text/plain": [
       "<Figure size 432x288 with 1 Axes>"
      ]
     },
     "metadata": {
      "needs_background": "light"
     },
     "output_type": "display_data"
    }
   ],
   "source": [
    "plt.plot(losses)"
   ]
  },
  {
   "cell_type": "markdown",
   "metadata": {},
   "source": [
    "**gp_model_svi.kernel.autoguide(\"lengthscale\", dist.Normal)** does not really make sense to me if I want to use relaxedonehotcategorical distribution. Does it mean that I have to write my own guide as there is no autoguide for RelaxedOneHotCategorical?"
   ]
  },
  {
   "cell_type": "code",
   "execution_count": 22,
   "metadata": {},
   "outputs": [
    {
     "data": {
      "text/plain": [
       "[('kernel.lengthscale_loc', Parameter containing:\n",
       "  tensor([-0.8205, -0.2012,  0.2776, -0.7620], requires_grad=True)),\n",
       " ('kernel.lengthscale_scale',\n",
       "  tensor([1.0389, 0.9131, 1.1062, 1.1291], grad_fn=<AddBackward0>)),\n",
       " ('kernel.variance_loc', Parameter containing:\n",
       "  tensor(4.5681, requires_grad=True)),\n",
       " ('kernel.variance_scale', tensor(0.9025, grad_fn=<AddBackward0>)),\n",
       " ('noise_loc', Parameter containing:\n",
       "  tensor(1.6569, requires_grad=True)),\n",
       " ('noise_scale', tensor(0.5310, grad_fn=<AddBackward0>))]"
      ]
     },
     "execution_count": 22,
     "metadata": {},
     "output_type": "execute_result"
    }
   ],
   "source": [
    "sorted(list(gp_model_svi.named_pyro_params()))"
   ]
  },
  {
   "cell_type": "code",
   "execution_count": null,
   "metadata": {},
   "outputs": [],
   "source": []
  }
 ],
 "metadata": {
  "kernelspec": {
   "display_name": "Python 3",
   "language": "python",
   "name": "python3"
  },
  "language_info": {
   "codemirror_mode": {
    "name": "ipython",
    "version": 3
   },
   "file_extension": ".py",
   "mimetype": "text/x-python",
   "name": "python",
   "nbconvert_exporter": "python",
   "pygments_lexer": "ipython3",
   "version": "3.7.4"
  }
 },
 "nbformat": 4,
 "nbformat_minor": 2
}
